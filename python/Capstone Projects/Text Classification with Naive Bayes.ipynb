{
 "cells": [
  {
   "cell_type": "markdown",
   "id": "f1ad3a6a",
   "metadata": {},
   "source": [
    "# Introduction: Text Classification with Naive Bayes"
   ]
  },
  {
   "cell_type": "markdown",
   "id": "0ac625b3",
   "metadata": {},
   "source": [
    "Welcome to this Jupyter Notebook, where we'll explore the fascinating world of text classification using the renowned **20 Newsgroups Dataset**. This collection of approximately 20,000 newsgroup documents, partitioned across 20 different newsgroups, provides a rich playground for us to apply and evaluate the performance of the Multinomial Naive Bayes classifier.\n",
    "\n",
    "### Objective:\n",
    "Our quest is to navigate through the intricacies of natural language data and to harness the power of the Naive Bayes algorithm to accurately classify documents into their respective newsgroups. We aim to dissect and understand the underlying patterns within the textual data that can guide our model to make precise predictions.\n",
    "\n",
    "$$\\Large \\displaystyle P(C_k | x) = \\frac{P(x | C_k) P(C_k)}{P(x)}$$\n",
    "\n",
    "- \\$ P(C_k | x) \\$ is the posterior probability of class \\$ C_k \\$ given predictor \\$ x \\$.\n",
    "- \\$ P(x | C_k) \\$ is the likelihood which is the probability of predictor \\$ x \\$ given class \\$ C_k \\$.\n",
    "- \\$ P(C_k) \\$ is the prior probability of class \\$ C_k \\$.\n",
    "- \\$ P(x) \\$ is the prior probability of predictor \\$ x \\$.\n",
    "\n",
    "### Dataset Overview:\n",
    "The 20 Newsgroups dataset is a benchmark dataset for document classification and text analysis. Each document is a newsgroup post that falls into one of 20 categories, which range from sports and religion to science and technology. The dataset's diversity in topics and natural language complexity makes it an excellent candidate for text classification tasks.\n",
    "\n",
    "### Structure of this Notebook:\n",
    "1. [Installing and Importing Necessary Libraries](#ch1)\n",
    "2. [Loading the 20 Newsgroups Dataset](#ch2)\n",
    "3. [Text Preprocessing and Normalization](#ch3)\n",
    "4. [Feature Extraction with TF-IDF Vectorization](#ch4)\n",
    "5. [Splitting the Data](#ch5)\n",
    "6. [Training the Multinomial Naive Bayes Model](#ch6)\n",
    "7. [Evaluation of Naive Bayes Model](#ch7)\n",
    "8. [Confusion Matrix](#ch8)\n",
    "9. [Classification Report](#ch9)\n",
    "10. [Conclusion](#ch10)\n",
    "\n",
    "Embark with us on this analytical expedition to uncover the predictive power of the Naive Bayes classifier on the 20 Newsgroups dataset!"
   ]
  },
  {
   "cell_type": "markdown",
   "id": "8af51f69",
   "metadata": {},
   "source": [
    "## 1. Installing and Importing Necessary Libraries <a id='ch1'></a>"
   ]
  },
  {
   "cell_type": "markdown",
   "id": "b1169307",
   "metadata": {},
   "source": [
    "Before diving into the text classification task, it's crucial to set up our environment with the necessary Python libraries that will empower our analysis:\n",
    "\n",
    "- **`numpy`** and **`pandas`**: These are the cornerstones for data manipulation and numerical computations in Python. They provide sophisticated data structures and functions that are indispensable for handling and analyzing complex datasets.\n",
    "\n",
    "- **`matplotlib.pyplot`** and **`seaborn`**: Our go-to libraries for visualizing data, they offer a rich set of plotting functions that enable us to create insightful and attractive visual representations of our data.\n",
    "\n",
    "- **`re`**: The library for regular expression operations, which is particularly useful for text processing tasks such as pattern searching, substitutions, and splits.\n",
    "\n",
    "- **`sklearn.feature_extraction.text`**: Part of the scikit-learn library, this module includes text processing tools like `TfidfVectorizer`, which we will use to convert text data into a format that can be used by our machine learning model.\n",
    "\n",
    "- **`sklearn.datasets`**: This module provides easy access to datasets, including the 20 newsgroups dataset, which is a collection of approximately 20,000 newsgroup documents, partitioned across 20 different newsgroups.\n",
    "\n",
    "- **`sklearn.model_selection`**: Contains model selection utilities like `train_test_split`, which we'll use to divide our dataset into training and testing sets to evaluate the performance of our model.\n",
    "\n",
    "- **`sklearn.naive_bayes`**: Houses the Naive Bayes classifier, `MultinomialNB`, which is a probabilistic learning method widely used for text classification.\n",
    "\n",
    "- **`sklearn.metrics`**: Offers a suite of functions to evaluate the performance of our model, including `classification_report` for a comprehensive summary of precision, recall, and F1 scores, `accuracy_score` for the overall accuracy, and `confusion_matrix` for a detailed breakdown of correct and incorrect classifications.\n",
    "\n",
    "- **`nltk`**: The Natural Language Toolkit is a powerful library for working with human language data in Python. It includes functions for text processing and natural language understanding, such as tokenization and stemming.\n",
    "\n",
    "- **`IPython.display`**: Provides utilities for rich content integration in Jupyter notebooks, allowing us to display markdown, HTML, images, and other rich media in an interactive format.\n",
    "\n",
    "With these libraries at our disposal, we are well-equipped to proceed with our text classification project, ensuring a streamlined and efficient workflow from data preprocessing to model evaluation."
   ]
  },
  {
   "cell_type": "code",
   "execution_count": 1,
   "id": "eafe824a",
   "metadata": {},
   "outputs": [],
   "source": [
    "# Basic libraries\n",
    "import numpy as np\n",
    "import pandas as pd\n",
    "import matplotlib.pyplot as plt\n",
    "import seaborn as sns\n",
    "import re\n",
    "\n",
    "# NLP libraries\n",
    "from sklearn.feature_extraction.text import TfidfVectorizer\n",
    "from sklearn.feature_extraction.text import CountVectorizer\n",
    "\n",
    "# Dataset\n",
    "from sklearn.datasets import fetch_20newsgroups\n",
    "\n",
    "# Data preprocessing and utilities\n",
    "from sklearn.model_selection import train_test_split\n",
    "\n",
    "# Machine Learning Model\n",
    "from sklearn.naive_bayes import MultinomialNB\n",
    "\n",
    "# Metrics and evaluation\n",
    "from sklearn.metrics import classification_report, accuracy_score, confusion_matrix\n",
    "\n",
    "# Text preprocessing and natural language processing\n",
    "import nltk\n",
    "from nltk.corpus import stopwords\n",
    "from nltk.stem import WordNetLemmatizer\n",
    "# nltk.download('stopwords')\n",
    "# nltk.download('wordnet')\n",
    "\n",
    "# To display markdown text\n",
    "from IPython.display import display, Markdown, HTML"
   ]
  },
  {
   "cell_type": "markdown",
   "id": "a1c287da",
   "metadata": {},
   "source": [
    "## 2. Loading the 20 Newsgroups Dataset <a id='ch2'></a>"
   ]
  },
  {
   "cell_type": "markdown",
   "id": "a321a23e",
   "metadata": {},
   "source": [
    "The **20 Newsgroups Dataset** is a collection of approximately 20,000 newsgroup documents, partitioned across 20 different newsgroups. This dataset is a popular resource for experiments in text applications of machine learning techniques, such as text classification and text clustering.\n",
    "\n",
    "The dataset comprises newsgroup documents from a wide range of topics, including:\n",
    "\n",
    "- Science (e.g., `sci.space`, `sci.med`)\n",
    "- Technology (e.g., `comp.graphics`, `comp.os.ms-windows.misc`)\n",
    "- Religion (e.g., `alt.atheism`, `soc.religion.christian`)\n",
    "- Politics (e.g., `talk.politics.mideast`, `talk.politics.guns`)\n",
    "- Recreation (e.g., `rec.autos`, `rec.sport.baseball`)\n",
    "- and many more.\n",
    "\n",
    "Each document in the dataset is a discussion that might include topics of interest, questions, or opinions from one of the twenty newsgroups. Here's a glimpse into the dataset structure and a sample document:\n",
    "\n",
    "- `keys()`: Returns the keys of the dataset dictionary.\n",
    "- `target_names`: Provides the names of the 20 different newsgroups.\n",
    "- `data`: Contains the actual text documents from the newsgroups.\n",
    "\n",
    "By fetching the dataset with `subset='all'`, we retrieve both the training and testing subsets, giving us the full range of documents to work with for our analysis.\n",
    "\n",
    "Here is a sample text from the dataset, providing a real-world example of the type of text data we will be working with:"
   ]
  },
  {
   "cell_type": "code",
   "execution_count": 2,
   "id": "fcd01680",
   "metadata": {},
   "outputs": [
    {
     "name": "stdout",
     "output_type": "stream",
     "text": [
      "dict_keys(['data', 'filenames', 'target_names', 'target', 'DESCR'])\n",
      "['alt.atheism', 'comp.graphics', 'comp.os.ms-windows.misc', 'comp.sys.ibm.pc.hardware', 'comp.sys.mac.hardware', 'comp.windows.x', 'misc.forsale', 'rec.autos', 'rec.motorcycles', 'rec.sport.baseball', 'rec.sport.hockey', 'sci.crypt', 'sci.electronics', 'sci.med', 'sci.space', 'soc.religion.christian', 'talk.politics.guns', 'talk.politics.mideast', 'talk.politics.misc', 'talk.religion.misc']\n",
      "\n",
      "Sample text:\n",
      " From: Mamatha Devineni Ratnam <mr47+@andrew.cmu.edu>\n",
      "Subject: Pens fans reactions\n",
      "Organization: Post Office, Carnegie Mellon, Pittsburgh, PA\n",
      "Lines: 12\n",
      "NNTP-Posting-Host: po4.andrew.cmu.edu\n",
      "\n",
      "\n",
      "\n",
      "I am sure some bashers of Pens fans are pretty confused about the lack\n",
      "of any kind of posts about the recent Pens massacre of the Devils. Actually,\n",
      "I am  bit puzzled too and a bit relieved. However, I am going to put an end\n",
      "to non-PIttsburghers' relief with a bit of praise for the Pens. Man, they\n",
      "are killing those Devils worse than I thought. Jagr just showed you why\n",
      "he is much better than his regular season stats. He is also a lot\n",
      "fo fun to watch in the playoffs. Bowman should let JAgr have a lot of\n",
      "fun in the next couple of games since the Pens are going to beat the pulp out of Jersey anyway. I was very disappointed not to see the Islanders lose the final\n",
      "regular season game.          PENS RULE!!!\n",
      "\n",
      "\n"
     ]
    }
   ],
   "source": [
    "# Fetch the 20 newsgroups dataset, including all subsets (train and test)\n",
    "newsgroups_data = fetch_20newsgroups(subset='all')\n",
    "\n",
    "# Explore the data structure\n",
    "print(newsgroups_data.keys())\n",
    "print(newsgroups_data.target_names)\n",
    "print(\"\\nSample text:\\n\", newsgroups_data.data[0])"
   ]
  },
  {
   "cell_type": "markdown",
   "id": "b33b3658",
   "metadata": {},
   "source": [
    "## 3. Text Preprocessing and Normalization <a id='ch3'></a>"
   ]
  },
  {
   "cell_type": "markdown",
   "id": "662f1b47",
   "metadata": {},
   "source": [
    "Before we can feed the textual data into a machine learning model, it's crucial to preprocess and normalize the text. This process involves several steps that convert the raw text into a more analyzable and uniform format, which is essential for effective feature extraction and model training.\n",
    "\n",
    "Here are the key preprocessing steps we've implemented:\n",
    "\n",
    "1. <span style=\"color:red\">**Lowercasing**</span>: Convert all characters in the text to lowercase to ensure uniformity and to avoid distinguishing between words based on case.\n",
    "\n",
    "2. <span style=\"color:red\">**Punctuation and Number Removal**</span>: Strip away all non-alphabetic characters, such as punctuation and numbers, to focus solely on the textual content.\n",
    "\n",
    "3. <span style=\"color:red\">**Tokenization**</span>: Split the text into individual words or tokens. This step is fundamental in natural language processing and helps in the subsequent steps of analysis and feature extraction.\n",
    "\n",
    "4. <span style=\"color:red\">**Stopword Removal**</span>: Eliminate common words that carry minimal useful information, such as \"the\", \"is\", and \"in\". These words are known as stopwords and can be distracting to the algorithms.\n",
    "\n",
    "5. <span style=\"color:red\">**Lemmatization**</span>: Reduce words to their base or root form. For instance, \"running\" and \"runs\" are lemmatized to \"run\". This helps in consolidating the different forms of a word into a single representation.\n",
    "\n",
    "The following code snippet demonstrates the implementation of these preprocessing steps:"
   ]
  },
  {
   "cell_type": "code",
   "execution_count": 3,
   "id": "1e49fb79",
   "metadata": {},
   "outputs": [],
   "source": [
    "# Initialize the WordNetLemmatizer to reduce words to their base or root form\n",
    "lemmatizer = WordNetLemmatizer()\n",
    "\n",
    "# Create a set of English stopwords for removal during preprocessing\n",
    "stop_words = set(stopwords.words('english'))\n",
    "\n",
    "# Define a function to preprocess text data\n",
    "def preprocess_text(text):\n",
    "    # Convert the entire text to lowercase to maintain consistency\n",
    "    text = text.lower()\n",
    "    \n",
    "    # Use regular expressions to remove punctuation and numbers, keeping only alphabets and spaces\n",
    "    text = re.sub(r'[^a-z\\s]', '', text)\n",
    "    \n",
    "    # Split the text into individual words (tokenization)\n",
    "    words = text.split()\n",
    "    \n",
    "    # Remove stopwords and lemmatize each word to its base form\n",
    "    words = [lemmatizer.lemmatize(word) for word in words if word not in stop_words]\n",
    "    \n",
    "    # Join the processed words back into a single string\n",
    "    return ' '.join(words)\n",
    "\n",
    "# Apply the preprocessing function to each document in the dataset\n",
    "newsgroups_data.data = [preprocess_text(text) for text in newsgroups_data.data]"
   ]
  },
  {
   "cell_type": "markdown",
   "id": "ac9999fb",
   "metadata": {},
   "source": [
    "## 4. Feature Extraction with TF-IDF Vectorization <a id='ch4'></a>"
   ]
  },
  {
   "cell_type": "markdown",
   "id": "1c2eb7da",
   "metadata": {},
   "source": [
    "### Feature Extraction with TF-IDF Vectorization\n",
    "\n",
    "After preprocessing the text data, the next step is to convert the textual information into numerical data that machine learning models can understand and process. This is where feature extraction comes into play. We use the Term Frequency-Inverse Document Frequency (TF-IDF) vectorization technique to transform the text into a meaningful representation of numbers.\n",
    "\n",
    "The `TfidfVectorizer` accomplishes two main tasks:\n",
    "\n",
    "1. <span style=\"color:red\">**Term Frequency (TF)**</span>: It counts the number of times a word appears in a document (the term frequency), normalizing this count by the length of the document to account for different document lengths.\n",
    "\n",
    "2. <span style=\"color:red\">**Inverse Document Frequency (IDF)**</span>: It measures how important a word is within the entire collection of documents (the corpus). Words that appear frequently in a single document but less often in the corpus receive a higher score, highlighting their significance in the context of the document.\n",
    "\n",
    "The following code snippet demonstrates the use of `TfidfVectorizer`:"
   ]
  },
  {
   "cell_type": "code",
   "execution_count": 4,
   "id": "5a8f572c",
   "metadata": {},
   "outputs": [],
   "source": [
    "# Initialize TF-IDF Vectorizer with a maximum of 5000 terms\n",
    "vectorizer = TfidfVectorizer(max_features=5000)\n",
    "\n",
    "# Create TF-IDF features from the preprocessed text data\n",
    "X = vectorizer.fit_transform(newsgroups_data.data)\n",
    "\n",
    "# Set the target categories for the documents\n",
    "y = newsgroups_data.target"
   ]
  },
  {
   "cell_type": "markdown",
   "id": "ad642554",
   "metadata": {},
   "source": [
    "By setting `max_features=5000`, we limit the number of features to the top 5000 terms in the corpus, which helps to focus on the most relevant terms and reduces the computational complexity.\n",
    "\n",
    "The output `X` is a sparse matrix representing the TF-IDF scores of words in the documents, and `y` contains the target labels corresponding to the categories of the 20 newsgroups dataset. This transformation is critical for preparing our dataset for the machine learning models that will follow."
   ]
  },
  {
   "cell_type": "markdown",
   "id": "c281b290",
   "metadata": {},
   "source": [
    "## 5. Splitting the Data <a id='ch5'></a>"
   ]
  },
  {
   "cell_type": "markdown",
   "id": "76c802c1",
   "metadata": {},
   "source": [
    "Before we proceed to model training, it is essential to divide our dataset into training and testing sets. This practice is a cornerstone of machine learning, ensuring that we have a separate dataset to evaluate our model's performance objectively.\n",
    "\n",
    "We use the `train_test_split` function from scikit-learn to partition the dataset:\n",
    "\n",
    "- `X_train` and `y_train` are the subsets of features and labels used for training the model. They contain 80% of the data, providing a rich set for the model to learn from.\n",
    "- `X_test` and `y_test` are the subsets reserved for testing the model. They comprise 20% of the data, which we will use to assess how well the model generalizes to new, unseen data.\n",
    "\n",
    "The `test_size` parameter is set to 0.2, indicating that 20% of the data should be allocated for the test set. The `random_state` is fixed at 1337, a commonly used \"seed\" in random number generation, to ensure that our train-test split is reproducible across different runs.\n",
    "\n",
    "Here's the updated code snippet with the print statements to display the number of samples in each set:"
   ]
  },
  {
   "cell_type": "code",
   "execution_count": 5,
   "id": "697ebd48",
   "metadata": {},
   "outputs": [
    {
     "name": "stdout",
     "output_type": "stream",
     "text": [
      "Training set size: 15076 samples\n",
      "Testing set size: 3770 samples\n"
     ]
    }
   ],
   "source": [
    "# Splitting the data into training and testing sets\n",
    "X_train, X_test, y_train, y_test = train_test_split(X, y, test_size=0.2, random_state=1337)\n",
    "\n",
    "# Display the size of the training and testing sets\n",
    "print(f\"Training set size: {X_train.shape[0]} samples\")\n",
    "print(f\"Testing set size: {X_test.shape[0]} samples\")"
   ]
  },
  {
   "cell_type": "markdown",
   "id": "ed5e30d8",
   "metadata": {},
   "source": [
    "## 6. Training the Multinomial Naive Bayes Model <a id='ch6'></a>"
   ]
  },
  {
   "cell_type": "markdown",
   "id": "00ae5743",
   "metadata": {},
   "source": [
    "With our data neatly split into training and testing sets, we proceed to the training phase. We've chosen the Multinomial Naive Bayes (MNB) algorithm for our initial model due to its simplicity and effectiveness in text classification tasks, especially when dealing with term frequency data.\n",
    "\n",
    "The MNB model is particularly well-suited for classification with discrete features (e.g., word counts for text classification). It calculates the probability of each class and the conditional probability of each class given each input value. These probabilities are then used to make predictions for new data.\n",
    "\n",
    "Here's how we train our MNB model:"
   ]
  },
  {
   "cell_type": "code",
   "execution_count": 6,
   "id": "508648f7",
   "metadata": {},
   "outputs": [
    {
     "data": {
      "text/plain": [
       "MultinomialNB()"
      ]
     },
     "execution_count": 6,
     "metadata": {},
     "output_type": "execute_result"
    }
   ],
   "source": [
    "# Initialize the Multinomial Naive Bayes classifier\n",
    "model = MultinomialNB()\n",
    "\n",
    "# Train the model with the training data\n",
    "model.fit(X_train, y_train)"
   ]
  },
  {
   "cell_type": "markdown",
   "id": "cafe6d1f",
   "metadata": {},
   "source": [
    "## 7. Evaluation of Naive Bayes Model <a id='ch7'></a>"
   ]
  },
  {
   "cell_type": "markdown",
   "id": "110f3b5c",
   "metadata": {},
   "source": [
    "After making predictions with our trained model, it's crucial to evaluate its performance. For classification tasks, one of the primary metrics used is accuracy, which is defined as:\n",
    "\n",
    "<span style=\"color:red\">**Accuracy**</span>: This metric represents the proportion of true results (both true positives and true negatives) among the total number of cases examined. To put it simply, it measures how many predictions made by the model are correct. The formula for accuracy is given by:\n",
    "\n",
    "$$\\Large \\text{Accuracy} = \\frac{\\text{Number of correct predictions}}{\\text{Total number of predictions made}}$$\n",
    "\n",
    "- The **Number of correct predictions** is the count of instances where the predicted label $\\hat{y}_i$exactly matches the true label $y_i$\n",
    "- The **Total number of predictions made** is the count of all predictions made by the model.\n",
    "\n",
    "In practical terms, we calculate the accuracy to get a quantitative measure of how well our model predicts the correct labels. We use scikit-learn's `accuracy_score` function to compute the accuracy of our model on the test set, which can be interpreted as follows:\n",
    "\n",
    "- An **accuracy of 1.0** means the model is perfect at prediction.\n",
    "- An **accuracy of 0.5** suggests the model is no better than random guessing.\n",
    "- An **accuracy of 0.0** indicates the model is always wrong in its predictions.\n",
    "\n",
    "This metric is particularly useful when the number of observations in each class is similar. However, it might be misleading when there is a severe class imbalance."
   ]
  },
  {
   "cell_type": "code",
   "execution_count": 7,
   "id": "10b37576",
   "metadata": {},
   "outputs": [
    {
     "name": "stdout",
     "output_type": "stream",
     "text": [
      "Test Accuracy: 84.64%\n"
     ]
    }
   ],
   "source": [
    "# Make predictions on the test set\n",
    "y_pred = model.predict(X_test)\n",
    "\n",
    "# Calculate the accuracy on the test set\n",
    "test_accuracy = accuracy_score(y_test, y_pred)\n",
    "\n",
    "# Print the test accuracy\n",
    "print(f\"Test Accuracy: {test_accuracy * 100:.2f}%\")"
   ]
  },
  {
   "cell_type": "markdown",
   "id": "e3c4c0f7",
   "metadata": {},
   "source": [
    "## 8. Confusion Matrix <a id='ch8'></a>"
   ]
  },
  {
   "cell_type": "markdown",
   "id": "2d71cb32",
   "metadata": {},
   "source": [
    "A **Confusion Matrix** is a powerful tool to understand the performance of a classification model. It provides a detailed breakdown of true positive, true negative, false positive, and false negative predictions for each class. This granularity allows us to pinpoint specific areas where the model might be struggling.\n",
    "\n",
    "In the matrix:\n",
    "- Rows represent the **actual classes**.\n",
    "- Columns represent the **predicted classes**.\n",
    "\n",
    "The diagonal elements represent the number of points for which the predicted label is equal to the true label, while off-diagonal elements are those that are mislabeled by the classifier.\n",
    "\n",
    "In this section, we'll:\n",
    "1. <span style=\"color:red\">**Calculate the Confusion Matrix**</span>: Using scikit-learn's `confusion_matrix` function, we'll compute the matrix for our test data predictions.\n",
    "  \n",
    "2. <span style=\"color:red\">**Visualize the Matrix**</span>: We'll use Seaborn's heatmap function to visualize the confusion matrix. This visualization will help us quickly identify which classes are being confused with others.\n",
    "\n",
    "Let's take a look at the confusion matrix for our model:"
   ]
  },
  {
   "cell_type": "code",
   "execution_count": 8,
   "id": "2ff883a6",
   "metadata": {},
   "outputs": [
    {
     "data": {
      "image/png": "[encoded data removed]",
      "text/plain": [
       "<Figure size 1008x504 with 2 Axes>"
      ]
     },
     "metadata": {
      "needs_background": "light"
     },
     "output_type": "display_data"
    }
   ],
   "source": [
    "# Calculate the confusion matrix\n",
    "cm = confusion_matrix(y_test, y_pred)\n",
    "\n",
    "# Plot the confusion matrix\n",
    "plt.figure(figsize=(14, 7))\n",
    "sns.heatmap(cm, annot=True, fmt='g', cmap='Blues', xticklabels=newsgroups_data.target_names, yticklabels=newsgroups_data.target_names)\n",
    "plt.xlabel('PREDICTED', fontsize=14)\n",
    "plt.ylabel('ACTUAL', fontsize=14)\n",
    "plt.title('Confusion Matrix', fontsize=16)\n",
    "plt.show()"
   ]
  },
  {
   "cell_type": "markdown",
   "id": "68df38bf",
   "metadata": {},
   "source": [
    "## 9. Classification Report <a id='ch9'></a>"
   ]
  },
  {
   "cell_type": "markdown",
   "id": "ed05a613",
   "metadata": {},
   "source": [
    "After obtaining the overall accuracy of our model, it's important to delve deeper and understand its performance across the different classes present in our dataset. The classification report is a valuable tool that provides key metrics for each class, which include precision, recall, and the F1-score.\n",
    "\n",
    "- **Precision**: Indicates the proportion of positive identifications that were actually correct. A high precision relates to a low false positive rate.\n",
    "- **Recall**: Reflects the proportion of actual positives that were identified correctly. A high recall indicates that the model is good at capturing the positive cases.\n",
    "- **F1-Score**: A weighted harmonic mean of precision and recall. It conveys the balance between the precision and the recall.\n",
    "- **Support**: The number of actual occurrences of the class in the specified dataset.\n",
    "\n",
    "These metrics provide a more granular understanding of where the model excels and where it might be lacking. For instance, a high precision indicates that false positives are low, while a high recall indicates that false negatives are low.\n",
    "\n",
    "In this section, we'll:\n",
    "1. <span style=\"color:red\">**Generate the Classification Report**</span>: Using scikit-learn's `classification_report` function, we'll compute these metrics for our test data predictions.\n",
    "  \n",
    "2. <span style=\"color:red\">**Visualize the Report**</span>: To make the report more readable, we'll convert it into a pandas DataFrame and display it with enhanced formatting.\n",
    "\n",
    "Let's take a detailed look at the classification report for our model:"
   ]
  },
  {
   "cell_type": "code",
   "execution_count": 9,
   "id": "3271489a",
   "metadata": {},
   "outputs": [
    {
     "data": {
      "text/html": [
       "\n",
       "<style>\n",
       "    table {\n",
       "        font-size: 24px;  \n",
       "    }\n",
       "    th {\n",
       "        font-size: 18px; \n",
       "    }\n",
       "</style>\n"
      ],
      "text/plain": [
       "<IPython.core.display.HTML object>"
      ]
     },
     "metadata": {},
     "output_type": "display_data"
    },
    {
     "data": {
      "text/markdown": [
       "### Classification Report"
      ],
      "text/plain": [
       "<IPython.core.display.Markdown object>"
      ]
     },
     "metadata": {},
     "output_type": "display_data"
    },
    {
     "data": {
      "text/html": [
       "<div>\n",
       "<style scoped>\n",
       "    .dataframe tbody tr th:only-of-type {\n",
       "        vertical-align: middle;\n",
       "    }\n",
       "\n",
       "    .dataframe tbody tr th {\n",
       "        vertical-align: top;\n",
       "    }\n",
       "\n",
       "    .dataframe thead th {\n",
       "        text-align: right;\n",
       "    }\n",
       "</style>\n",
       "<table border=\"1\" class=\"dataframe\">\n",
       "  <thead>\n",
       "    <tr style=\"text-align: right;\">\n",
       "      <th></th>\n",
       "      <th>precision</th>\n",
       "      <th>recall</th>\n",
       "      <th>f1-score</th>\n",
       "      <th>support</th>\n",
       "    </tr>\n",
       "  </thead>\n",
       "  <tbody>\n",
       "    <tr>\n",
       "      <th>alt.atheism</th>\n",
       "      <td>0.87</td>\n",
       "      <td>0.81</td>\n",
       "      <td>0.84</td>\n",
       "      <td>181.00</td>\n",
       "    </tr>\n",
       "    <tr>\n",
       "      <th>comp.graphics</th>\n",
       "      <td>0.69</td>\n",
       "      <td>0.84</td>\n",
       "      <td>0.76</td>\n",
       "      <td>185.00</td>\n",
       "    </tr>\n",
       "    <tr>\n",
       "      <th>comp.os.ms-windows.misc</th>\n",
       "      <td>0.75</td>\n",
       "      <td>0.80</td>\n",
       "      <td>0.77</td>\n",
       "      <td>185.00</td>\n",
       "    </tr>\n",
       "    <tr>\n",
       "      <th>comp.sys.ibm.pc.hardware</th>\n",
       "      <td>0.72</td>\n",
       "      <td>0.76</td>\n",
       "      <td>0.74</td>\n",
       "      <td>199.00</td>\n",
       "    </tr>\n",
       "    <tr>\n",
       "      <th>comp.sys.mac.hardware</th>\n",
       "      <td>0.82</td>\n",
       "      <td>0.84</td>\n",
       "      <td>0.83</td>\n",
       "      <td>182.00</td>\n",
       "    </tr>\n",
       "    <tr>\n",
       "      <th>comp.windows.x</th>\n",
       "      <td>0.84</td>\n",
       "      <td>0.83</td>\n",
       "      <td>0.84</td>\n",
       "      <td>199.00</td>\n",
       "    </tr>\n",
       "    <tr>\n",
       "      <th>misc.forsale</th>\n",
       "      <td>0.86</td>\n",
       "      <td>0.81</td>\n",
       "      <td>0.83</td>\n",
       "      <td>209.00</td>\n",
       "    </tr>\n",
       "    <tr>\n",
       "      <th>rec.autos</th>\n",
       "      <td>0.94</td>\n",
       "      <td>0.85</td>\n",
       "      <td>0.89</td>\n",
       "      <td>211.00</td>\n",
       "    </tr>\n",
       "    <tr>\n",
       "      <th>rec.motorcycles</th>\n",
       "      <td>0.88</td>\n",
       "      <td>0.93</td>\n",
       "      <td>0.91</td>\n",
       "      <td>192.00</td>\n",
       "    </tr>\n",
       "    <tr>\n",
       "      <th>rec.sport.baseball</th>\n",
       "      <td>0.94</td>\n",
       "      <td>0.95</td>\n",
       "      <td>0.94</td>\n",
       "      <td>206.00</td>\n",
       "    </tr>\n",
       "    <tr>\n",
       "      <th>rec.sport.hockey</th>\n",
       "      <td>0.95</td>\n",
       "      <td>0.96</td>\n",
       "      <td>0.96</td>\n",
       "      <td>218.00</td>\n",
       "    </tr>\n",
       "    <tr>\n",
       "      <th>sci.crypt</th>\n",
       "      <td>0.92</td>\n",
       "      <td>0.94</td>\n",
       "      <td>0.93</td>\n",
       "      <td>179.00</td>\n",
       "    </tr>\n",
       "    <tr>\n",
       "      <th>sci.electronics</th>\n",
       "      <td>0.86</td>\n",
       "      <td>0.75</td>\n",
       "      <td>0.80</td>\n",
       "      <td>201.00</td>\n",
       "    </tr>\n",
       "    <tr>\n",
       "      <th>sci.med</th>\n",
       "      <td>0.91</td>\n",
       "      <td>0.92</td>\n",
       "      <td>0.91</td>\n",
       "      <td>192.00</td>\n",
       "    </tr>\n",
       "    <tr>\n",
       "      <th>sci.space</th>\n",
       "      <td>0.93</td>\n",
       "      <td>0.90</td>\n",
       "      <td>0.91</td>\n",
       "      <td>196.00</td>\n",
       "    </tr>\n",
       "    <tr>\n",
       "      <th>soc.religion.christian</th>\n",
       "      <td>0.67</td>\n",
       "      <td>0.93</td>\n",
       "      <td>0.78</td>\n",
       "      <td>179.00</td>\n",
       "    </tr>\n",
       "    <tr>\n",
       "      <th>talk.politics.guns</th>\n",
       "      <td>0.73</td>\n",
       "      <td>0.94</td>\n",
       "      <td>0.82</td>\n",
       "      <td>170.00</td>\n",
       "    </tr>\n",
       "    <tr>\n",
       "      <th>talk.politics.mideast</th>\n",
       "      <td>0.97</td>\n",
       "      <td>0.95</td>\n",
       "      <td>0.96</td>\n",
       "      <td>198.00</td>\n",
       "    </tr>\n",
       "    <tr>\n",
       "      <th>talk.politics.misc</th>\n",
       "      <td>0.97</td>\n",
       "      <td>0.70</td>\n",
       "      <td>0.81</td>\n",
       "      <td>159.00</td>\n",
       "    </tr>\n",
       "    <tr>\n",
       "      <th>talk.religion.misc</th>\n",
       "      <td>0.93</td>\n",
       "      <td>0.31</td>\n",
       "      <td>0.47</td>\n",
       "      <td>129.00</td>\n",
       "    </tr>\n",
       "    <tr>\n",
       "      <th>accuracy</th>\n",
       "      <td>0.85</td>\n",
       "      <td>0.85</td>\n",
       "      <td>0.85</td>\n",
       "      <td>0.85</td>\n",
       "    </tr>\n",
       "    <tr>\n",
       "      <th>macro avg</th>\n",
       "      <td>0.86</td>\n",
       "      <td>0.84</td>\n",
       "      <td>0.84</td>\n",
       "      <td>3,770.00</td>\n",
       "    </tr>\n",
       "    <tr>\n",
       "      <th>weighted avg</th>\n",
       "      <td>0.86</td>\n",
       "      <td>0.85</td>\n",
       "      <td>0.84</td>\n",
       "      <td>3,770.00</td>\n",
       "    </tr>\n",
       "  </tbody>\n",
       "</table>\n",
       "</div>"
      ],
      "text/plain": [
       "                          precision  recall  f1-score  support\n",
       "alt.atheism                    0.87    0.81      0.84   181.00\n",
       "comp.graphics                  0.69    0.84      0.76   185.00\n",
       "comp.os.ms-windows.misc        0.75    0.80      0.77   185.00\n",
       "comp.sys.ibm.pc.hardware       0.72    0.76      0.74   199.00\n",
       "comp.sys.mac.hardware          0.82    0.84      0.83   182.00\n",
       "comp.windows.x                 0.84    0.83      0.84   199.00\n",
       "misc.forsale                   0.86    0.81      0.83   209.00\n",
       "rec.autos                      0.94    0.85      0.89   211.00\n",
       "rec.motorcycles                0.88    0.93      0.91   192.00\n",
       "rec.sport.baseball             0.94    0.95      0.94   206.00\n",
       "rec.sport.hockey               0.95    0.96      0.96   218.00\n",
       "sci.crypt                      0.92    0.94      0.93   179.00\n",
       "sci.electronics                0.86    0.75      0.80   201.00\n",
       "sci.med                        0.91    0.92      0.91   192.00\n",
       "sci.space                      0.93    0.90      0.91   196.00\n",
       "soc.religion.christian         0.67    0.93      0.78   179.00\n",
       "talk.politics.guns             0.73    0.94      0.82   170.00\n",
       "talk.politics.mideast          0.97    0.95      0.96   198.00\n",
       "talk.politics.misc             0.97    0.70      0.81   159.00\n",
       "talk.religion.misc             0.93    0.31      0.47   129.00\n",
       "accuracy                       0.85    0.85      0.85     0.85\n",
       "macro avg                      0.86    0.84      0.84 3,770.00\n",
       "weighted avg                   0.86    0.85      0.84 3,770.00"
      ]
     },
     "metadata": {},
     "output_type": "display_data"
    }
   ],
   "source": [
    "# Set the display option for floating point numbers\n",
    "pd.options.display.float_format = \"{:,.2f}\".format\n",
    "\n",
    "# Generate the classification report\n",
    "report = classification_report(y_test, y_pred, target_names=newsgroups_data.target_names, output_dict=True)\n",
    "\n",
    "# Convert the report dictionary to a DataFrame for better visualization\n",
    "report_df = pd.DataFrame(report).transpose()\n",
    "\n",
    "# Create a custom CSS style for larger font sizes\n",
    "style = \"\"\"\n",
    "<style>\n",
    "    table {\n",
    "        font-size: 24px;  \n",
    "    }\n",
    "    th {\n",
    "        font-size: 18px; \n",
    "    }\n",
    "</style>\n",
    "\"\"\"\n",
    "\n",
    "# Display the custom style\n",
    "display(HTML(style))\n",
    "\n",
    "# Display the report using Markdown\n",
    "display(Markdown(\"### Classification Report\"))\n",
    "display(report_df)"
   ]
  },
  {
   "cell_type": "markdown",
   "id": "24aea99b",
   "metadata": {},
   "source": [
    "## 10. Conclusion <a id='ch10'></a>"
   ]
  },
  {
   "cell_type": "markdown",
   "id": "eff78687",
   "metadata": {},
   "source": [
    "In this analysis, we applied the Multinomial Naive Bayes algorithm to classify texts from the 20 Newsgroups dataset. Our model achieved an overall accuracy of 85%, which is a strong baseline for such a diverse and unstructured dataset.\n",
    "\n",
    "### Key Takeaways from the Classification Report:\n",
    "\n",
    "- **High Precision in Specific Categories**: The model showed high precision in categories such as `talk.politics.mideast` and `talk.politics.misc`, indicating a strong ability to correctly identify relevant messages without many false positives.\n",
    "\n",
    "- **Recall Variances**: Recall varied across categories, with high recall in `soc.religion.christian` and `talk.politics.guns`, suggesting the model is adept at identifying most relevant messages in these categories. However, categories like `talk.religion.misc` had a notably lower recall, indicating room for improvement in capturing all relevant messages.\n",
    "\n",
    "- **F1-Score Insights**: The F1-score, which balances precision and recall, was particularly high in `rec.sport.hockey` and `sci.crypt`, showing that the model's predictions are reliable in these areas. Conversely, the `talk.religion.misc` category had a low F1-score, highlighting a challenge for the model in this domain.\n",
    "\n",
    "- **Support**: The support value, indicating the number of true instances for each label, shows that the dataset is fairly balanced, which helps in evaluating the model's performance across different categories.\n",
    "\n",
    "### Overall Model Performance:\n",
    "\n",
    "The Multinomial Naive Bayes classifier performed well across most categories, with some exceptions where either precision or recall could be improved. The high accuracy and F1-scores in several categories demonstrate the model's effectiveness for text classification tasks. However, the lower performance in certain categories suggests that additional feature engineering, model tuning, or even ensemble methods could be explored to enhance the model's ability to generalize across all topics.\n",
    "\n",
    "In conclusion, the Multinomial Naive Bayes model serves as a solid benchmark for text classification on the 20 Newsgroups dataset. Future work could involve experimenting with different preprocessing techniques, utilizing more complex models, or incorporating additional data to further improve classification performance.\n"
   ]
  }
 ],
 "metadata": {
  "kernelspec": {
   "display_name": "Python 3 (ipykernel)",
   "language": "python",
   "name": "python3"
  },
  "language_info": {
   "codemirror_mode": {
    "name": "ipython",
    "version": 3
   },
   "file_extension": ".py",
   "mimetype": "text/x-python",
   "name": "python",
   "nbconvert_exporter": "python",
   "pygments_lexer": "ipython3",
   "version": "3.9.12"
  }
 },
 "nbformat": 4,
 "nbformat_minor": 5
}

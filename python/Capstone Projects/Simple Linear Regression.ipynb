{
 "cells": [
  {
   "cell_type": "markdown",
   "id": "f1e3ebef",
   "metadata": {},
   "source": [
    "# Introduction: Simple Linear Regression with the Ames Housing Dataset"
   ]
  },
  {
   "cell_type": "markdown",
   "id": "10ec368b",
   "metadata": {},
   "source": [
    "Welcome to this Jupyter Notebook, where we'll be exploring the fundamentals of simple linear regression using the **Ames Housing Dataset**. Linear regression is one of the foundational algorithms in machine learning and statistics, used to predict a continuous target variable based on one or more input features.\n",
    "\n",
    "### Objective:\n",
    "Our primary goal is to understand the relationship between the size of a house (Above-ground living area) and its sale price. By building a linear regression model, we aim to predict house prices based on the size of the house and evaluate the performance of our model using various metrics.\n",
    "\n",
    "$$\\Large \\displaystyle \\hat{y}_i = \\hat{\\beta}_0 + \\hat{\\beta}_1 x_i$$\n",
    "\n",
    " - $\\hat{y}_i$ is the predicted value of the dependent variable (house price) for the $i^{th}$ observation.\n",
    " - $\\hat{\\beta}_0$ is the y-intercept of the regression line.\n",
    " - $\\hat{\\beta}_1$ is the slope of the regression line.\n",
    " - $x_i$ is the value of the independent variable (house size) for the $i^{th}$ observation.\n",
    "\n",
    "\n",
    "### Dataset Overview:\n",
    "The Ames Housing Dataset provides a comprehensive snapshot of the housing market in Ames, Iowa. It contains detailed information about various attributes of houses, from their physical characteristics to sale details. For our analysis, we'll be focusing on:\n",
    "\n",
    "- `GrLivArea`: Above-ground living area in square feet.\n",
    "- `SalePrice`: Sale price of the house.\n",
    "\n",
    "### Structure of this Notebook:\n",
    "1. [Installing and Importing Necessary Libraries](#ch1)\n",
    "2. [Loading the Ames Housing Dataset](#ch2)\n",
    "3. [Splitting the Data](#ch3)\n",
    "4. [Training the Linear Regression Model](#ch4)\n",
    "5. [Estimating Parameters](#ch5)\n",
    "6. [Making Predictions](#ch6)\n",
    "7. [Visualizing the Line of Best Fit](#ch7)\n",
    "8. [Evaluating the Model](#ch8)\n",
    "9. [Conclusion](#ch9)\n",
    "\n",
    "By the end of this notebook, you'll have a clear understanding of how to build, train, and evaluate a simple linear regression model using Python and scikit-learn. Let's get started!"
   ]
  },
  {
   "cell_type": "markdown",
   "id": "8af51f69",
   "metadata": {},
   "source": [
    "## 1. Installing and Importing Necessary Libraries <a id='ch1'></a>"
   ]
  },
  {
   "cell_type": "markdown",
   "id": "55042fd9",
   "metadata": {},
   "source": [
    "Before diving into the analysis, we need to import the necessary Python libraries that will be used throughout this notebook:\n",
    "\n",
    "- **`pandas`**: A powerful data manipulation and analysis library. It provides data structures for efficiently storing large datasets and tools for reshaping, aggregating, and merging data.\n",
    "\n",
    "- **`matplotlib.pyplot`**: A plotting library for Python and its numerical mathematics extension, NumPy. It provides an object-oriented API for embedding plots into applications using general-purpose GUI toolkits. In this notebook, we'll use it to visualize the relationship between the living area and house prices, as well as the line of best fit.\n",
    "\n",
    "- **`sklearn.datasets`**: This module from scikit-learn provides access to various datasets, including the **Ames Housing dataset**. It's a convenient way to quickly load data for experimentation.\n",
    "\n",
    "- **`sklearn.model_selection`**: This module provides the `train_test_split` function, which is essential for splitting our dataset into training and testing sets. This allows us to evaluate the performance of our model on unseen data.\n",
    "\n",
    "- **`sklearn.linear_model`**: This module contains the `LinearRegression` class, a fundamental algorithm in machine learning for predicting a continuous target variable based on one or more input features.\n",
    "\n",
    "- **`sklearn.metrics`**: This module provides utility functions to evaluate the performance of our model. In this notebook, we'll use the `mean_squared_error` function to quantify the difference between the predicted and actual house prices.\n",
    "\n",
    "By importing these libraries at the beginning, we ensure that all the necessary tools are readily available as we proceed with the analysis."
   ]
  },
  {
   "cell_type": "code",
   "execution_count": 1,
   "id": "f9c8ce52",
   "metadata": {},
   "outputs": [],
   "source": [
    "# If using Jupyter Notebook and pip is available, you can install directly using the following:\n",
    "# !pip install pandas matplotlib scikit-learn"
   ]
  },
  {
   "cell_type": "markdown",
   "id": "81fc5611",
   "metadata": {},
   "source": [
    "Uncomment the second line of code above to install the necessary libraries."
   ]
  },
  {
   "cell_type": "code",
   "execution_count": 2,
   "id": "5cd6c842",
   "metadata": {
    "slideshow": {
     "slide_type": "subslide"
    }
   },
   "outputs": [],
   "source": [
    "# Importing libraries\n",
    "import pandas as pd\n",
    "import matplotlib.pyplot as plt\n",
    "from sklearn.datasets import fetch_openml\n",
    "from sklearn.model_selection import train_test_split\n",
    "from sklearn.linear_model import LinearRegression\n",
    "from sklearn.metrics import mean_squared_error"
   ]
  },
  {
   "cell_type": "markdown",
   "id": "a1c287da",
   "metadata": {},
   "source": [
    "## 2. Loading the Amex Housing Dataset <a id='ch2'></a>"
   ]
  },
  {
   "cell_type": "markdown",
   "id": "5b76c846",
   "metadata": {},
   "source": [
    "The **Ames Housing Dataset** is a comprehensive dataset that provides detailed information about individual residential homes in Ames, Iowa. It contains **79 explanatory variables** describing various aspects of the houses, but for the purpose of this analysis, we'll focus on the `GrLivArea` variable, which represents the above-ground living area in square feet.\n",
    "\n",
    "To load the dataset, we use the `fetch_openml` function from scikit-learn. This function fetches datasets from the **OpenML repository**, making it easy to access a wide range of datasets for machine learning and data analysis."
   ]
  },
  {
   "cell_type": "code",
   "execution_count": 3,
   "id": "cf9b98ee",
   "metadata": {},
   "outputs": [],
   "source": [
    "# Fetch the Ames Housing Dataset and load it as a pandas DataFrame\n",
    "housing = fetch_openml(name=\"house_prices\", as_frame=True)\n",
    "\n",
    "# Select the 'GrLivArea' column as the independent variable (feature)\n",
    "X = housing.data[['GrLivArea']]\n",
    "\n",
    "# Set the target variable as the sale price of the houses\n",
    "y = housing.target"
   ]
  },
  {
   "cell_type": "markdown",
   "id": "1900f243",
   "metadata": {},
   "source": [
    "### Code Breakdown:"
   ]
  },
  {
   "cell_type": "code",
   "execution_count": 4,
   "id": "f4ac649f",
   "metadata": {},
   "outputs": [],
   "source": [
    "housing = fetch_openml(name=\"house_prices\", as_frame=True)"
   ]
  },
  {
   "cell_type": "markdown",
   "id": "d6f9aa95",
   "metadata": {},
   "source": [
    "This line fetches the **Ames Housing Dataset** from OpenML and loads it into the `housing` variable. The `as_frame=True` argument ensures that the data is loaded as a pandas DataFrame, which is a versatile data structure for data manipulation in Python."
   ]
  },
  {
   "cell_type": "code",
   "execution_count": 5,
   "id": "c3b3c1d8",
   "metadata": {},
   "outputs": [],
   "source": [
    "X = housing.data[['GrLivArea']]"
   ]
  },
  {
   "cell_type": "markdown",
   "id": "3afd1235",
   "metadata": {},
   "source": [
    "From the loaded dataset, we extract the `GrLivArea` column as our independent variable (or feature). This variable will be used to predict house prices."
   ]
  },
  {
   "cell_type": "code",
   "execution_count": 6,
   "id": "6709d786",
   "metadata": {},
   "outputs": [],
   "source": [
    "y = housing.target"
   ]
  },
  {
   "cell_type": "markdown",
   "id": "0db0beb2",
   "metadata": {},
   "source": [
    "The `housing.target` attribute contains the dependent variable, which is the sale price of each house. This is what we aim to predict using our linear regression model."
   ]
  },
  {
   "cell_type": "markdown",
   "id": "df6987a8",
   "metadata": {},
   "source": [
    "By loading and preparing the dataset in this manner, we set the stage for the subsequent steps of data exploration, modeling, and evaluation."
   ]
  },
  {
   "cell_type": "markdown",
   "id": "b33b3658",
   "metadata": {},
   "source": [
    "## 3. Splitting the Data: <a id='ch3'></a>"
   ]
  },
  {
   "cell_type": "markdown",
   "id": "b7d5c87a",
   "metadata": {},
   "source": [
    "Before training our linear regression model, it's essential to split the dataset into two parts: a <span style=\"color:red\">**training set**</span> and a <span style=\"color:red\">**testing set**</span>. This allows us to train our model on one subset of the data and then test its performance on a separate, unseen subset. This approach helps evaluate how well our model is likely to perform on new, unseen data.\n",
    "\n",
    "In this notebook, we're using the `train_test_split` function from scikit-learn to achieve this split:\n",
    "\n",
    "- `X_train`, `y_train`: These are the features and target variable for the training set, respectively. The model will learn from this data.\n",
    "\n",
    "- `X_test`, `y_test`: These are the features and target variable for the testing set, respectively. We'll use this data to evaluate the model's performance.\n",
    "\n",
    "We've reserved 20% of the data for testing (`test_size=0.2`). The random_state parameter is set to 1337, ensuring that the data split is reproducible. This means that every time we run this code, we'll get the same train/test split, which is useful for consistent results and comparisons."
   ]
  },
  {
   "cell_type": "code",
   "execution_count": 7,
   "id": "b3dad961",
   "metadata": {},
   "outputs": [],
   "source": [
    "# Split the data into training and testing sets, with 20% of the data reserved for testing\n",
    "X_train, X_test, y_train, y_test = train_test_split(X, y, test_size=0.2, random_state=1337)"
   ]
  },
  {
   "cell_type": "markdown",
   "id": "3c54ddad",
   "metadata": {},
   "source": [
    "## 4. Training the Linear Regression Model: <a id='ch4'></a>"
   ]
  },
  {
   "cell_type": "markdown",
   "id": "7092107d",
   "metadata": {},
   "source": [
    "Once we have our data prepared and split into training and testing sets, the next step is to train our model. For this analysis, we're using a simple linear regression model from scikit-learn's `LinearRegression` class.\n",
    "\n",
    "The code for training the model is straightforward:\n",
    "\n",
    "- `model = LinearRegression()`: Here, we <span style=\"color:red\">**initialize**</span> the linear regression model.\n",
    "\n",
    "- `model.fit(X_train, y_train)`: With this line, we <span style=\"color:red\">**train**</span> the model using the training data. The model learns the relationship between the feature (`GrLivArea`) and the target variable (`SalePrice`) from this data.\n",
    "\n",
    "By the end of this step, our model will have learned the best-fit line that describes the relationship between the house's above-ground living area and its sale price, based on the training data."
   ]
  },
  {
   "cell_type": "code",
   "execution_count": 8,
   "id": "c8ddf983",
   "metadata": {},
   "outputs": [
    {
     "data": {
      "text/plain": [
       "LinearRegression()"
      ]
     },
     "execution_count": 8,
     "metadata": {},
     "output_type": "execute_result"
    }
   ],
   "source": [
    "# Initialize the Linear Regression model\n",
    "model = LinearRegression()\n",
    "\n",
    "# Train the model using the training data\n",
    "model.fit(X_train, y_train)"
   ]
  },
  {
   "cell_type": "markdown",
   "id": "c63e2819",
   "metadata": {},
   "source": [
    "## 5. Estimating Parameters <a id='ch5'></a>"
   ]
  },
  {
   "cell_type": "markdown",
   "id": "e254f8b3",
   "metadata": {},
   "source": [
    "After training our linear regression model, it's essential to understand the parameters (or coefficients) that the model has learned. In the context of linear regression, especially with a single independent variable, these parameters are:\n",
    "\n",
    "- <span style=\"color:red\">**Slope**</span> **(Coefficient)**: Represents the change in the dependent variable (in this case, `SalePrice`) for a one-unit change in the independent variable (`GrLivArea`). It gives us an idea of the relationship strength and direction between the living area and the house price.\n",
    "\n",
    "- <span style=\"color:red\">**Intercept**</span> **(Bias)**: The value of the dependent variable when the independent variable is zero. In the context of our dataset, it's a theoretical value, representing the predicted price of a house with no living area (which doesn't make practical sense but is a part of the linear equation).\n",
    "\n",
    "The code extracts these parameters from the trained model:\n",
    "\n",
    "- `model.coef_[0]`: Retrieves the slope (coefficient) of the regression line.\n",
    "\n",
    "- `model.intercept_`: Retrieves the intercept (bias) of the regression line.\n",
    "\n",
    "By understanding these parameters, we can describe the linear relationship that the model has learned from the training data."
   ]
  },
  {
   "cell_type": "code",
   "execution_count": 9,
   "id": "4ea59579",
   "metadata": {},
   "outputs": [
    {
     "name": "stdout",
     "output_type": "stream",
     "text": [
      "Slope (Coefficient): 108.41265046634098\n",
      "Intercept (Bias): 16857.816849484545\n"
     ]
    }
   ],
   "source": [
    "# Slope (coefficient) of the regression line\n",
    "slope = model.coef_[0]\n",
    "\n",
    "# Intercept (bias) of the regression line\n",
    "intercept = model.intercept_\n",
    "\n",
    "# Print the estimated slope (coefficient) of the regression line\n",
    "print(f\"Slope (Coefficient): {slope}\")\n",
    "\n",
    "# Print the estimated intercept (bias) of the regression line\n",
    "print(f\"Intercept (Bias): {intercept}\")"
   ]
  },
  {
   "cell_type": "markdown",
   "id": "50cc3f00",
   "metadata": {},
   "source": [
    "## 6. Making Predictions: <a id='ch6'></a>"
   ]
  },
  {
   "cell_type": "markdown",
   "id": "dc2df4dc",
   "metadata": {},
   "source": [
    "Once our linear regression model is trained, the next step is to use it to make predictions on new, unseen data. In this case, we'll use the testing set (`X_test`) that we set aside earlier. These predictions will allow us to evaluate how well our model performs in terms of accuracy and error.\n",
    "\n",
    "The predict method of the `LinearRegression` class is used to make these predictions. It takes the features of the testing set and returns the predicted values for the target variable (`SalePrice`)."
   ]
  },
  {
   "cell_type": "code",
   "execution_count": 10,
   "id": "6da292ee",
   "metadata": {},
   "outputs": [],
   "source": [
    "# Use the trained model to make predictions on the testing set\n",
    "y_pred = model.predict(X_test)"
   ]
  },
  {
   "cell_type": "markdown",
   "id": "17d2e957",
   "metadata": {},
   "source": [
    "## 7. Visualizing the Line of Best Fit <a id='ch7'></a>"
   ]
  },
  {
   "cell_type": "markdown",
   "id": "8f84cf6c",
   "metadata": {},
   "source": [
    "To get a visual sense of how well our linear regression model fits the data, we can plot the actual data points alongside the model's predicted line of best fit. This visualization provides a clear picture of the relationship between the living area (`GrLivArea`) and the house price (`SalePrice`), as captured by our model.\n",
    "\n",
    "In the plot:\n",
    "\n",
    "- The <span style=\"color:blue\">**blue**</span> dots represent the actual data points from the testing set.\n",
    "- The <span style=\"color:red\">**red**</span> line represents the model's predictions, or the line of best fit."
   ]
  },
  {
   "cell_type": "code",
   "execution_count": 11,
   "id": "02f930b9",
   "metadata": {},
   "outputs": [
    {
     "data": {
      "image/png": "[encoded data removed]",
      "text/plain": [
       "<Figure size 1080x648 with 1 Axes>"
      ]
     },
     "metadata": {
      "needs_background": "light"
     },
     "output_type": "display_data"
    }
   ],
   "source": [
    "# Set the figure size (width, height) in inches\n",
    "plt.figure(figsize=(15, 9))\n",
    "\n",
    "# Plot the actual data points\n",
    "plt.scatter(X_test['GrLivArea'], y_test, color='blue', label='Actual Data')\n",
    "\n",
    "# Plot the line of best fit\n",
    "plt.plot(X_test['GrLivArea'], y_pred, color='red', label='Line of Best Fit', linestyle='-', marker='o')\n",
    "\n",
    "# Setting labels, title, and their font sizes\n",
    "plt.xlabel('Above-ground living area (sq. ft.)', fontsize=14)\n",
    "plt.ylabel('House Price ($)', fontsize=14)\n",
    "plt.title('Linear Regression: Actual vs Predicted', fontsize=16)\n",
    "\n",
    "# Set the legend with increased font size\n",
    "plt.legend(fontsize=12)\n",
    "\n",
    "# Increase the font size of tick labels\n",
    "plt.xticks(fontsize=12)\n",
    "plt.yticks(fontsize=12)\n",
    "\n",
    "# Display the plot\n",
    "plt.show()"
   ]
  },
  {
   "cell_type": "markdown",
   "id": "36bb42fc",
   "metadata": {},
   "source": [
    "## 8. Evaluating the Model: <a id='ch8'></a>"
   ]
  },
  {
   "cell_type": "markdown",
   "id": "a2050017",
   "metadata": {},
   "source": [
    "After making predictions with our trained model, it's crucial to evaluate its performance. Two common metrics used for regression tasks are:\n",
    "\n",
    "1. <span style=\"color:red\">**Mean Squared Error (MSE)**</span>: Measures the average squared difference between the actual values (`y_test`) and the predicted values (`y_pred`). A lower MSE indicates a better fit of the model to the data, while a higher MSE suggests potential underfitting or overfitting. The formula for MSE is given by:\n",
    "\n",
    "$$\\Large \\displaystyle \\text{MSE} = \\frac{1}{n} \\sum_{i=1}^{n} (y_i - \\hat{y}_i)^2$$\n",
    "\n",
    " - $n$ is the total number of observations\n",
    " - $y_i$ is the actual value of the observation\n",
    " - $\\hat{y}_i$ is the predicted value of the observation\n",
    "\n",
    "2. <span style=\"color:red\">**Coefficient of Determination ($R^2$ value)**</span>: Represents the proportion of the variance in the dependent variable that is predictable from the independent variable(s). An $R^2$ value closer to 1 indicates a better fit. The formula for $R^2$ is:\n",
    "\n",
    "$$\\Large \\displaystyle R^2 = 1 - \\frac{\\text{SS}_{\\text{res}}}{\\text{SS}_{\\text{tot}}}$$\n",
    "\n",
    " - $\\text{SS}_{\\text{res}}$ represents the the sum of the squared residuals\n",
    " - $\\text{SS}_{\\text{tot}}$ represents the total sum of squares\n",
    "\n",
    "In this section, we compute both the MSE using scikit-learn's `mean_squared_error` function and the $R^2$ value using the `score` method of our trained model. These values give us a quantitative measure of how well our linear regression model predicts house prices based on the living area."
   ]
  },
  {
   "cell_type": "code",
   "execution_count": 12,
   "id": "02343dc2",
   "metadata": {
    "scrolled": true
   },
   "outputs": [
    {
     "name": "stdout",
     "output_type": "stream",
     "text": [
      "Mean Squared Error: 2211978626.12\n",
      "R-squared Value: 0.49\n"
     ]
    }
   ],
   "source": [
    "# Calculate the Mean Squared Error between the actual and predicted house prices\n",
    "mse = mean_squared_error(y_test, y_pred)\n",
    "print(f\"Mean Squared Error: {mse:.2f}\")\n",
    "\n",
    "# Calculate the R^2 value\n",
    "r2 = model.score(X_test, y_test)\n",
    "print(f\"R-squared Value: {r2:.2f}\")"
   ]
  },
  {
   "cell_type": "markdown",
   "id": "5afe5803",
   "metadata": {},
   "source": [
    "The `model.score()` method returns the $R^2$ value when used with regression models in scikit-learn. This code will provide both the MSE and the $R^2$ value, giving a comprehensive evaluation of the model's performance."
   ]
  },
  {
   "cell_type": "markdown",
   "id": "40f30ef6",
   "metadata": {},
   "source": [
    "## 9. Conclusion: <a id='ch9'></a>"
   ]
  },
  {
   "cell_type": "markdown",
   "id": "ce456eca",
   "metadata": {},
   "source": [
    "In our exploration using simple linear regression, we focused on predicting house sale prices based solely on the `GrLivArea` feature, which represents the above-ground living area of the house in square feet.\n",
    "\n",
    "The slope coefficient for GrLivArea was determined to be 108.41. This implies that for every additional square foot of living area, the house sale price is predicted to increase by approximately \\$108, holding all else constant.\n",
    "\n",
    "Our model achieved an $R^2$ value of 49.2%. This indicates that approximately 49.2% of the variability in house sale prices can be explained by the living area alone. While this is a decent starting point, there's significant room for improvement.\n",
    "\n",
    "In the subsequent notebook, we aim to enhance the predictive power of our model by incorporating more features into our analysis. By doing so, we hope to capture more of the complexities and nuances in the data, leading to a more accurate and comprehensive model."
   ]
  }
 ],
 "metadata": {
  "kernelspec": {
   "display_name": "Python 3 (ipykernel)",
   "language": "python",
   "name": "python3"
  },
  "language_info": {
   "codemirror_mode": {
    "name": "ipython",
    "version": 3
   },
   "file_extension": ".py",
   "mimetype": "text/x-python",
   "name": "python",
   "nbconvert_exporter": "python",
   "pygments_lexer": "ipython3",
   "version": "3.9.12"
  }
 },
 "nbformat": 4,
 "nbformat_minor": 5
}

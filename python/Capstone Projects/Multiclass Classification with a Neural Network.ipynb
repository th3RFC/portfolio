{
 "cells": [
  {
   "cell_type": "markdown",
   "id": "f1e3ebef",
   "metadata": {},
   "source": [
    "# Introduction: Multiclass Classification with a Neural Network"
   ]
  },
  {
   "cell_type": "markdown",
   "id": "be408f7e",
   "metadata": {},
   "source": [
    "Welcome to this Jupyter Notebook, where we'll be diving deep into the captivating realm of neural networks using the distinguished **Wine Dataset**. This dataset, stemming from a meticulous chemical analysis of wines from a specific region in Italy, offers a unique opportunity to delve into the world of multi-class classification. In this analysis, we'll architect a sophisticated neural network model to classify wine samples into one of three cultivars based on their distinct chemical compositions.\n",
    "\n",
    "### Objective:\n",
    "Our primary mission is to discern the intricate relationships between the chemical constituents of wines and their respective cultivars. By designing a neural network model, we aspire to categorize the wines into their correct cultivars based on these chemical attributes. We will gauge the efficacy of our model using a plethora of metrics, ensuring its precision and reliability.\n",
    "\n",
    "$$\\Large \\displaystyle \\hat{y}_i = f(W \\cdot x_i + b)$$\n",
    "\n",
    " - \\$\\hat{y}_i\\$ is the predicted cultivar label for the \\$i^{th}\\$ wine sample.\n",
    " - \\$W\\$ symbolizes the weight matrix of the neural network.\n",
    " - \\$x_i\\$ represents the feature vector for the \\$i^{th}\\$ wine sample.\n",
    " - \\$b\\$ is the bias vector intrinsic to the neural network.\n",
    " - \\$f\\$ denotes the activation function employed within the neural network.\n",
    "\n",
    "### Dataset Overview:\n",
    "The Wine Dataset is an iconic dataset in the machine learning community. Originating from a chemical analysis of wines grown in Italy, it encompasses three distinct cultivars, each with 50 instances. The dataset boasts 13 features, each representing a specific chemical constituent found in the wines.\n",
    "\n",
    "### Structure of this Notebook:\n",
    "1. [Installing and Importing Necessary Libraries](#ch1)\n",
    "2. [Loading the Wine Dataset](#ch2)\n",
    "3. [Splitting the Data](#ch3)\n",
    "4. [Data Processing](#ch4)\n",
    "5. [Constructing and Compiling the Neural Network Model](#ch5)\n",
    "6. [Training the Neural Network](#ch6)\n",
    "7. [Model Performance Visualization](#ch7)\n",
    "8. [Model Evaluation on Test Data](#ch8)\n",
    "9. [Confusion Matrix](#ch9)\n",
    "10. [Classification Report](#ch10)\n",
    "11. [Conclusion](#ch11)\n",
    "\n",
    "Let's embark on this analytical journey!"
   ]
  },
  {
   "cell_type": "markdown",
   "id": "8af51f69",
   "metadata": {},
   "source": [
    "## 1. Installing and Importing Necessary Libraries <a id='ch1'></a>"
   ]
  },
  {
   "cell_type": "markdown",
   "id": "e5e041be",
   "metadata": {},
   "source": [
    "Before starting our analysis, we need to import the necessary Python libraries that will be used throughout this notebook:\n",
    "\n",
    "- **`pandas`** and **`numpy`**: Foundational libraries for data manipulation, analysis, and numerical operations. They provide data structures for efficiently storing large datasets and tools for reshaping, aggregating, and merging data.\n",
    "\n",
    "- **`matplotlib`** and **`seaborn`**: Essential libraries for data visualization. They offer a wide range of plotting tools and techniques that can enhance the understanding of our data.\n",
    "\n",
    "- **`IPython.display`**: Provides utilities for displaying objects in Jupyter, enhancing the interactivity and presentation of our notebook.\n",
    "\n",
    "- **`sklearn.datasets`**: From scikit-learn, this module allows us to fetch datasets, including the Wine dataset, providing a convenient way to load data for our analysis.\n",
    "\n",
    "- **`sklearn.model_selection`**: This module offers various utilities for model selection, including `train_test_split` for partitioning our data.\n",
    "\n",
    "- **`sklearn.preprocessing`**, **`sklearn.decomposition`**, and **`sklearn.pipeline`**: Offer common utility functions and transformer classes to change raw feature vectors into a representation more suitable for downstream estimators. We'll use `StandardScaler` to standardize features, `PCA` for dimensionality reduction, and `Pipeline` to streamline many of the routine processes.\n",
    "\n",
    "- **`tensorflow`** and **`keras`**: Libraries for building and training neural networks. They provide a wide range of tools and utilities for deep learning, allowing us to construct, train, and evaluate neural network models. Additionally, we'll be using advanced layers like `Dropout` for regularization and `BatchNormalization` to normalize activations in the network.\n",
    "\n",
    "- **`sklearn.metrics`**: Provides functions for model evaluation, including `classification_report` and `accuracy_score` to measure the performance of our classification model, and `confusion_matrix` to evaluate the accuracy of classification by comparing the actual and predicted classes.\n",
    "\n",
    "By importing these libraries upfront, we ensure a smooth workflow, allowing us to focus on the core analysis without interruptions."
   ]
  },
  {
   "cell_type": "code",
   "execution_count": 1,
   "id": "ad81effd",
   "metadata": {},
   "outputs": [],
   "source": [
    "# Basic libraries\n",
    "import pandas as pd\n",
    "import numpy as np\n",
    "import matplotlib.pyplot as plt\n",
    "import seaborn as sns\n",
    "from IPython.display import display, HTML, Markdown\n",
    "\n",
    "# Dataset\n",
    "from sklearn.datasets import load_wine\n",
    "\n",
    "# Data preprocessing and utilities\n",
    "from sklearn.model_selection import train_test_split\n",
    "from sklearn.preprocessing import StandardScaler\n",
    "from sklearn.decomposition import PCA\n",
    "from sklearn.pipeline import Pipeline\n",
    "\n",
    "# Neural Network\n",
    "import tensorflow as tf\n",
    "from tensorflow import keras\n",
    "from tensorflow.keras.models import Sequential\n",
    "from tensorflow.keras.layers import Dense, Dropout, BatchNormalization\n",
    "\n",
    "# Metrics and evaluation\n",
    "from sklearn.metrics import classification_report, accuracy_score, confusion_matrix"
   ]
  },
  {
   "cell_type": "markdown",
   "id": "a1c287da",
   "metadata": {},
   "source": [
    "## 2. Loading the Wine Dataset <a id='ch2'></a>"
   ]
  },
  {
   "cell_type": "markdown",
   "id": "2abbbbd3",
   "metadata": {},
   "source": [
    "The **Wine Dataset** is a result of a chemical analysis of wines grown in the same region in Italy but derived from three different cultivars. The dataset is often used in classification tasks in machine learning to distinguish between the three types of wines based on their chemical properties.\n",
    "\n",
    "The dataset consists of **178 samples** from wines, with each wine being classified into one of three classes. Thirteen different measurements were taken for different constituents found in the three types of wine:\n",
    "\n",
    "- `alcohol`: The amount of alcohol present in the wine.\n",
    "- `malic_acid`: A type of acid found in wine.\n",
    "- `ash`: A measure of the total ash content in the wine.\n",
    "- `alcalinity_of_ash`: Represents the alkalinity of the ash present in the wine.\n",
    "- `magnesium`: The amount of magnesium in the wine.\n",
    "- `total_phenols`: Total amount of phenols present in the wine.\n",
    "- `flavanoids`: A subset of phenols that contribute to the wine's flavor and mouthfeel.\n",
    "- `nonflavanoid_phenols`: Phenols that are not flavanoids.\n",
    "- `proanthocyanins`: A type of flavanoid found in the wine.\n",
    "- `color_intensity`: The intensity of the wine's color.\n",
    "- `hue`: Describes the kind of color the wine has.\n",
    "- `od280/od315_of_diluted_wines`: A measure used to quantify the wine's quality.\n",
    "- `proline`: An amino acid that can affect the wine's flavor.\n",
    "\n",
    "These features capture various chemical characteristics of the wines, providing a comprehensive profile of each wine's chemical composition. Collectively, they have been found to be discriminative enough to distinguish between the three types of wines.\n",
    "\n",
    "To load the dataset, we use the `load_wine` function from scikit-learn. This function provides a convenient way to load the Wine dataset, making it easy to access for machine learning and data analysis."
   ]
  },
  {
   "cell_type": "code",
   "execution_count": 2,
   "id": "69be316b",
   "metadata": {},
   "outputs": [
    {
     "data": {
      "text/html": [
       "<div>\n",
       "<style scoped>\n",
       "    .dataframe tbody tr th:only-of-type {\n",
       "        vertical-align: middle;\n",
       "    }\n",
       "\n",
       "    .dataframe tbody tr th {\n",
       "        vertical-align: top;\n",
       "    }\n",
       "\n",
       "    .dataframe thead th {\n",
       "        text-align: right;\n",
       "    }\n",
       "</style>\n",
       "<table border=\"1\" class=\"dataframe\">\n",
       "  <thead>\n",
       "    <tr style=\"text-align: right;\">\n",
       "      <th></th>\n",
       "      <th>alcohol</th>\n",
       "      <th>malic_acid</th>\n",
       "      <th>ash</th>\n",
       "      <th>alcalinity_of_ash</th>\n",
       "      <th>magnesium</th>\n",
       "      <th>total_phenols</th>\n",
       "      <th>flavanoids</th>\n",
       "      <th>nonflavanoid_phenols</th>\n",
       "      <th>proanthocyanins</th>\n",
       "      <th>color_intensity</th>\n",
       "      <th>hue</th>\n",
       "      <th>od280/od315_of_diluted_wines</th>\n",
       "      <th>proline</th>\n",
       "      <th>target</th>\n",
       "    </tr>\n",
       "  </thead>\n",
       "  <tbody>\n",
       "    <tr>\n",
       "      <th>0</th>\n",
       "      <td>14.23</td>\n",
       "      <td>1.71</td>\n",
       "      <td>2.43</td>\n",
       "      <td>15.6</td>\n",
       "      <td>127.0</td>\n",
       "      <td>2.80</td>\n",
       "      <td>3.06</td>\n",
       "      <td>0.28</td>\n",
       "      <td>2.29</td>\n",
       "      <td>5.64</td>\n",
       "      <td>1.04</td>\n",
       "      <td>3.92</td>\n",
       "      <td>1065.0</td>\n",
       "      <td>0</td>\n",
       "    </tr>\n",
       "    <tr>\n",
       "      <th>1</th>\n",
       "      <td>13.20</td>\n",
       "      <td>1.78</td>\n",
       "      <td>2.14</td>\n",
       "      <td>11.2</td>\n",
       "      <td>100.0</td>\n",
       "      <td>2.65</td>\n",
       "      <td>2.76</td>\n",
       "      <td>0.26</td>\n",
       "      <td>1.28</td>\n",
       "      <td>4.38</td>\n",
       "      <td>1.05</td>\n",
       "      <td>3.40</td>\n",
       "      <td>1050.0</td>\n",
       "      <td>0</td>\n",
       "    </tr>\n",
       "    <tr>\n",
       "      <th>2</th>\n",
       "      <td>13.16</td>\n",
       "      <td>2.36</td>\n",
       "      <td>2.67</td>\n",
       "      <td>18.6</td>\n",
       "      <td>101.0</td>\n",
       "      <td>2.80</td>\n",
       "      <td>3.24</td>\n",
       "      <td>0.30</td>\n",
       "      <td>2.81</td>\n",
       "      <td>5.68</td>\n",
       "      <td>1.03</td>\n",
       "      <td>3.17</td>\n",
       "      <td>1185.0</td>\n",
       "      <td>0</td>\n",
       "    </tr>\n",
       "    <tr>\n",
       "      <th>3</th>\n",
       "      <td>14.37</td>\n",
       "      <td>1.95</td>\n",
       "      <td>2.50</td>\n",
       "      <td>16.8</td>\n",
       "      <td>113.0</td>\n",
       "      <td>3.85</td>\n",
       "      <td>3.49</td>\n",
       "      <td>0.24</td>\n",
       "      <td>2.18</td>\n",
       "      <td>7.80</td>\n",
       "      <td>0.86</td>\n",
       "      <td>3.45</td>\n",
       "      <td>1480.0</td>\n",
       "      <td>0</td>\n",
       "    </tr>\n",
       "    <tr>\n",
       "      <th>4</th>\n",
       "      <td>13.24</td>\n",
       "      <td>2.59</td>\n",
       "      <td>2.87</td>\n",
       "      <td>21.0</td>\n",
       "      <td>118.0</td>\n",
       "      <td>2.80</td>\n",
       "      <td>2.69</td>\n",
       "      <td>0.39</td>\n",
       "      <td>1.82</td>\n",
       "      <td>4.32</td>\n",
       "      <td>1.04</td>\n",
       "      <td>2.93</td>\n",
       "      <td>735.0</td>\n",
       "      <td>0</td>\n",
       "    </tr>\n",
       "  </tbody>\n",
       "</table>\n",
       "</div>"
      ],
      "text/plain": [
       "   alcohol  malic_acid   ash  alcalinity_of_ash  magnesium  total_phenols  \\\n",
       "0    14.23        1.71  2.43               15.6      127.0           2.80   \n",
       "1    13.20        1.78  2.14               11.2      100.0           2.65   \n",
       "2    13.16        2.36  2.67               18.6      101.0           2.80   \n",
       "3    14.37        1.95  2.50               16.8      113.0           3.85   \n",
       "4    13.24        2.59  2.87               21.0      118.0           2.80   \n",
       "\n",
       "   flavanoids  nonflavanoid_phenols  proanthocyanins  color_intensity   hue  \\\n",
       "0        3.06                  0.28             2.29             5.64  1.04   \n",
       "1        2.76                  0.26             1.28             4.38  1.05   \n",
       "2        3.24                  0.30             2.81             5.68  1.03   \n",
       "3        3.49                  0.24             2.18             7.80  0.86   \n",
       "4        2.69                  0.39             1.82             4.32  1.04   \n",
       "\n",
       "   od280/od315_of_diluted_wines  proline  target  \n",
       "0                          3.92   1065.0       0  \n",
       "1                          3.40   1050.0       0  \n",
       "2                          3.17   1185.0       0  \n",
       "3                          3.45   1480.0       0  \n",
       "4                          2.93    735.0       0  "
      ]
     },
     "execution_count": 2,
     "metadata": {},
     "output_type": "execute_result"
    }
   ],
   "source": [
    "# Load the Wine dataset\n",
    "wine = load_wine()\n",
    "\n",
    "# Convert the dataset to a pandas DataFrame\n",
    "data = pd.DataFrame(data=wine.data, columns=wine.feature_names)\n",
    "data['target'] = wine.target\n",
    "\n",
    "# Display the first few rows of the dataset\n",
    "data.head()"
   ]
  },
  {
   "cell_type": "markdown",
   "id": "b33b3658",
   "metadata": {},
   "source": [
    "## 3. Splitting the Data <a id='ch3'></a>"
   ]
  },
  {
   "cell_type": "markdown",
   "id": "5692bc10",
   "metadata": {},
   "source": [
    "Before training our neural network model, it's crucial to partition the dataset into two subsets: a <span style=\"color:red\">**training set**</span> and a <span style=\"color:red\">**testing set**</span>. This division allows us to train our model on one subset of the data and subsequently evaluate its performance on an independent, unseen subset. Adopting this strategy provides insight into how well our model will likely generalize to new, unseen data.\n",
    "\n",
    "For this task, we employ the `train_test_split` function from scikit-learn:\n",
    "\n",
    "- `X_train`, `y_train`: These represent the features and target variable for the training set, respectively. Our model will be trained using this data.\n",
    "\n",
    "- `X_test`, `y_test`: These denote the features and target variable for the testing set, respectively. This data will be instrumental in assessing the model's performance.\n",
    "\n",
    "We've allocated 20% of the data for testing purposes (`test_size=0.2`). The `random_state` parameter is set to 1337, ensuring reproducibility in our data splits. This guarantees that each time we execute this code, the same train/test partition is maintained, facilitating consistent results and comparisons."
   ]
  },
  {
   "cell_type": "code",
   "execution_count": 3,
   "id": "44bbfd06",
   "metadata": {},
   "outputs": [
    {
     "name": "stdout",
     "output_type": "stream",
     "text": [
      "Training set size: 142 samples\n",
      "Testing set size: 36 samples\n"
     ]
    }
   ],
   "source": [
    "# Separate features and target variable\n",
    "X = data.drop('target', axis=1)\n",
    "y = data['target']\n",
    "\n",
    "# Splitting the data into training and testing sets\n",
    "X_train, X_test, y_train, y_test = train_test_split(X, y, test_size=0.2, random_state=1337)\n",
    "\n",
    "print(f\"Training set size: {X_train.shape[0]} samples\")\n",
    "print(f\"Testing set size: {X_test.shape[0]} samples\")"
   ]
  },
  {
   "cell_type": "markdown",
   "id": "0b3efed4",
   "metadata": {},
   "source": [
    "## 4. Data Processing <a id='ch4'></a>"
   ]
  },
  {
   "cell_type": "markdown",
   "id": "a1f28d82",
   "metadata": {},
   "source": [
    "Data preprocessing is an indispensable step in the machine learning workflow. It entails transforming the raw data to make it suitable for model training. For the **Wine Dataset**, our preprocessing tasks will be streamlined:\n",
    "\n",
    "1. <span style=\"color:red\">**Standardization**</span>: Neural networks often benefit from having input features that are on a similar scale, with a mean close to 0 and a standard deviation close to 1. This is because features with vastly different scales can result in uneven weight updates, potentially causing the model to converge to a suboptimal solution or even fail to converge at all. \n",
    " - **StandardScaler**: We'll use the `StandardScaler` from scikit-learn to standardize our features. This scaler subtracts the mean and divides by the standard deviation for each feature, ensuring that the transformed feature has a mean of 0 and a standard deviation of 1.\n",
    "\n",
    "2. <span style=\"color:red\">**Dimensionality Reduction**</span>: As datasets grow in complexity, they can contain redundant or irrelevant features that don't contribute much to the predictive power of the model. Reducing the dimensionality of the dataset can help in speeding up the training process and potentially lead to a model that generalizes better.\n",
    " - **PCA (Principal Component Analysis)**: We'll employ PCA to reduce the dimensionality of our dataset. PCA is a technique that transforms the original features into a new set of features, which are linear combinations of the original features. We've chosen to retain 10 principal components for our dataset.\n",
    "\n",
    "3. <span style=\"color:red\">**Constructing the Preprocessing Pipeline**</span>: To ensure a consistent application of preprocessing steps, we'll employ a `Pipeline`. This tool allows us to define a series of transformations that will be applied in sequence. For our dataset:\n",
    " - **Pipeline**: Our pipeline will begin with the standardization step, followed by dimensionality reduction using PCA. This ensures that every time we pass data through this pipeline, it undergoes the same sequence of transformations, maintaining consistency and reducing the potential for errors.\n",
    "\n",
    "By diligently preprocessing our data, we set the stage for the subsequent modeling phase, ensuring that our neural network operates on standardized and well-structured data."
   ]
  },
  {
   "cell_type": "code",
   "execution_count": 4,
   "id": "a4fad6c7",
   "metadata": {},
   "outputs": [],
   "source": [
    "# Create a pipeline for data preprocessing\n",
    "preprocessor = Pipeline([\n",
    "    ('scaler', StandardScaler()),  # Standardize features\n",
    "    ('pca', PCA(n_components=10))  # Reduce dimensionality\n",
    "])\n",
    "\n",
    "# Fit the preprocessor to the training data and transform it\n",
    "X_train_preprocessed = preprocessor.fit_transform(X_train)\n",
    "X_test_preprocessed = preprocessor.transform(X_test)"
   ]
  },
  {
   "cell_type": "markdown",
   "id": "23f24f31",
   "metadata": {},
   "source": [
    "## 5. Constructing and Compiling the Neural Network Model <a id='ch5'></a>"
   ]
  },
  {
   "cell_type": "markdown",
   "id": "9bfa94ae",
   "metadata": {},
   "source": [
    "With our data preprocessed and ready, the next pivotal step is to construct our neural network model. Neural networks are a subset of machine learning models inspired by the structure of the human brain. They consist of interconnected nodes (neurons) organized into layers. For our analysis, we'll be using the `Sequential` model from TensorFlow's Keras API, which allows for the linear stacking of layers.\n",
    "\n",
    "The construction and training of our neural network involve several steps:\n",
    "\n",
    "- <span style=\"color:red\">**Building the Neural Network Architecture**</span>: Our neural network will comprise multiple layers:\n",
    "  - **Input Layer**: This layer will have 256 neurons and use the ReLU (Rectified Linear Unit) activation function. The `input_shape` matches the number of features in our dataset. We also introduce `BatchNormalization` to normalize the activations of the neurons, ensuring the network remains stable throughout training. A `Dropout` layer is added to prevent overfitting by randomly setting a fraction of the input units to 0 during training.\n",
    "  \n",
    "  - **Hidden Layers**: We have four hidden layers. The first two hidden layers have 128 neurons each, and the third and fourth have 64 and 32 neurons respectively. All of them use the ReLU activation function. Each of these layers is followed by `BatchNormalization` and `Dropout` layers, ensuring consistent normalization and regularization throughout the network.\n",
    "  \n",
    "  - **Output Layer**: This layer will have 3 neurons, corresponding to the three classes of the Wine dataset. It uses the softmax activation function, ensuring the output values are probabilities that sum up to 1.\n",
    "\n",
    "- <span style=\"color:red\">**Compiling the Model**</span>: Once the architecture is defined, we need to compile the model. This step specifies the optimizer, loss function, and metrics for evaluation. We're using:\n",
    "  - **Optimizer**: Adam, an adaptive learning rate optimization algorithm that's efficient and requires little memory.\n",
    "  - **Loss Function**: `sparse_categorical_crossentropy`, suitable for multi-class classification problems where labels are integers.\n",
    "  - **Metrics**: Accuracy, which calculates the proportion of correctly predicted classifications in the dataset.\n",
    "\n",
    "- <span style=\"color:red\">**Model Summary**</span>: After compiling, we display a summary of our model's architecture, showing the layers, their type, output shape, and the number of parameters.\n",
    "\n",
    "By meticulously constructing and compiling our neural network, we lay the groundwork for the subsequent training phase, ensuring our model is well-suited to recognize patterns in the Wine dataset."
   ]
  },
  {
   "cell_type": "code",
   "execution_count": 5,
   "id": "5049082d",
   "metadata": {},
   "outputs": [
    {
     "name": "stdout",
     "output_type": "stream",
     "text": [
      "Model: \"sequential\"\n",
      "_________________________________________________________________\n",
      " Layer (type)                Output Shape              Param #   \n",
      "=================================================================\n",
      " dense (Dense)               (None, 256)               2816      \n",
      "                                                                 \n",
      " batch_normalization (BatchN  (None, 256)              1024      \n",
      " ormalization)                                                   \n",
      "                                                                 \n",
      " dropout (Dropout)           (None, 256)               0         \n",
      "                                                                 \n",
      " dense_1 (Dense)             (None, 128)               32896     \n",
      "                                                                 \n",
      " batch_normalization_1 (Batc  (None, 128)              512       \n",
      " hNormalization)                                                 \n",
      "                                                                 \n",
      " dropout_1 (Dropout)         (None, 128)               0         \n",
      "                                                                 \n",
      " dense_2 (Dense)             (None, 128)               16512     \n",
      "                                                                 \n",
      " batch_normalization_2 (Batc  (None, 128)              512       \n",
      " hNormalization)                                                 \n",
      "                                                                 \n",
      " dropout_2 (Dropout)         (None, 128)               0         \n",
      "                                                                 \n",
      " dense_3 (Dense)             (None, 64)                8256      \n",
      "                                                                 \n",
      " batch_normalization_3 (Batc  (None, 64)               256       \n",
      " hNormalization)                                                 \n",
      "                                                                 \n",
      " dropout_3 (Dropout)         (None, 64)                0         \n",
      "                                                                 \n",
      " dense_4 (Dense)             (None, 32)                2080      \n",
      "                                                                 \n",
      " batch_normalization_4 (Batc  (None, 32)               128       \n",
      " hNormalization)                                                 \n",
      "                                                                 \n",
      " dropout_4 (Dropout)         (None, 32)                0         \n",
      "                                                                 \n",
      " dense_5 (Dense)             (None, 3)                 99        \n",
      "                                                                 \n",
      "=================================================================\n",
      "Total params: 65,091\n",
      "Trainable params: 63,875\n",
      "Non-trainable params: 1,216\n",
      "_________________________________________________________________\n"
     ]
    }
   ],
   "source": [
    "from tensorflow.keras.layers import BatchNormalization\n",
    "\n",
    "# Build the Neural Network Model\n",
    "model = Sequential([\n",
    "    Dense(256, activation='relu', input_shape=(X_train_preprocessed.shape[1],)),  # Input layer\n",
    "    BatchNormalization(),\n",
    "    Dropout(0.4),  # Dropout layer to prevent overfitting\n",
    "    \n",
    "    Dense(128, activation='relu'),  # Hidden layer 1\n",
    "    BatchNormalization(),\n",
    "    Dropout(0.4),  # Dropout layer\n",
    "    \n",
    "    Dense(128, activation='relu'),  # Hidden layer 2\n",
    "    BatchNormalization(),\n",
    "    Dropout(0.4),  # Dropout layer\n",
    "    \n",
    "    Dense(64, activation='relu'),  # Hidden layer 3\n",
    "    BatchNormalization(),\n",
    "    Dropout(0.4),  # Dropout layer\n",
    "    \n",
    "    Dense(32, activation='relu'),  # Hidden layer 4\n",
    "    BatchNormalization(),\n",
    "    Dropout(0.4),  # Dropout layer\n",
    "    \n",
    "    Dense(3, activation='softmax')  # Output layer\n",
    "])\n",
    "\n",
    "# Compile the Model\n",
    "model.compile(optimizer='adam', loss='sparse_categorical_crossentropy', metrics=['accuracy'])\n",
    "\n",
    "# Display the model's architecture\n",
    "model.summary()"
   ]
  },
  {
   "cell_type": "markdown",
   "id": "60ba949e",
   "metadata": {},
   "source": [
    "## 6. Training the Neural Network <a id='ch6'></a>"
   ]
  },
  {
   "cell_type": "markdown",
   "id": "598158c1",
   "metadata": {},
   "source": [
    "With our neural network model constructed and compiled, the next step is to train it using our preprocessed training data. Training a neural network involves feeding it data and adjusting the internal parameters to minimize the prediction error. The process is iterative, with the model making predictions and updating its weights and biases in response to the error it made.\n",
    "\n",
    "Here's a breakdown of our training process:\n",
    "\n",
    "- <span style=\"color:red\">**Initial Training Phase**</span>: We start by training the model for 40 epochs without displaying the training logs (`verbose=0`). An epoch is a single pass through the entire training dataset. This initial phase allows the model to adjust its weights and biases based on the data, setting the stage for more refined training in the subsequent phase.\n",
    "\n",
    "- <span style=\"color:red\">**Refined Training Phase**</span>: After the initial 40 epochs, we continue training the model for an additional 10 epochs, this time displaying the training logs (`verbose=1`). This provides insights into the model's performance, showing metrics like loss and accuracy for both the training and validation datasets. The validation dataset, which is a subset of the training data (`validation_split=0.2`), helps monitor the model's performance on unseen data during training, aiding in early detection of overfitting.\n",
    "\n",
    "The `batch_size` parameter is set to 32, meaning the model updates its weights after every 32 samples. This batched approach helps in stabilizing the training process and achieving faster convergence.\n",
    "\n",
    "By the end of the 50 epochs, our neural network will have adjusted its parameters to better predict the target variable, setting the stage for evaluation and performance assessment."
   ]
  },
  {
   "cell_type": "code",
   "execution_count": 6,
   "id": "066fc671",
   "metadata": {},
   "outputs": [
    {
     "name": "stdout",
     "output_type": "stream",
     "text": [
      "Epoch 1/10\n",
      "4/4 [==============================] - 0s 46ms/step - loss: 0.1481 - accuracy: 0.9735 - val_loss: 0.1950 - val_accuracy: 0.9655\n",
      "Epoch 2/10\n",
      "4/4 [==============================] - 0s 34ms/step - loss: 0.2350 - accuracy: 0.9027 - val_loss: 0.1839 - val_accuracy: 0.9655\n",
      "Epoch 3/10\n",
      "4/4 [==============================] - 0s 27ms/step - loss: 0.2060 - accuracy: 0.9381 - val_loss: 0.1731 - val_accuracy: 0.9655\n",
      "Epoch 4/10\n",
      "4/4 [==============================] - 0s 30ms/step - loss: 0.2237 - accuracy: 0.9115 - val_loss: 0.1635 - val_accuracy: 0.9655\n",
      "Epoch 5/10\n",
      "4/4 [==============================] - 0s 33ms/step - loss: 0.1305 - accuracy: 0.9646 - val_loss: 0.1539 - val_accuracy: 0.9655\n",
      "Epoch 6/10\n",
      "4/4 [==============================] - 0s 34ms/step - loss: 0.1330 - accuracy: 0.9646 - val_loss: 0.1468 - val_accuracy: 0.9655\n",
      "Epoch 7/10\n",
      "4/4 [==============================] - 0s 29ms/step - loss: 0.1788 - accuracy: 0.9646 - val_loss: 0.1411 - val_accuracy: 0.9655\n",
      "Epoch 8/10\n",
      "4/4 [==============================] - 0s 18ms/step - loss: 0.1769 - accuracy: 0.9292 - val_loss: 0.1361 - val_accuracy: 0.9655\n",
      "Epoch 9/10\n",
      "4/4 [==============================] - 0s 23ms/step - loss: 0.1658 - accuracy: 0.9469 - val_loss: 0.1315 - val_accuracy: 0.9655\n",
      "Epoch 10/10\n",
      "4/4 [==============================] - 0s 22ms/step - loss: 0.0948 - accuracy: 0.9912 - val_loss: 0.1281 - val_accuracy: 0.9655\n"
     ]
    }
   ],
   "source": [
    "# Train the model for the first 40 epochs without showing logs\n",
    "model.fit(X_train_preprocessed, y_train, epochs=40, batch_size=32, validation_split=0.2, verbose=0)\n",
    "\n",
    "# Train the model for the last 10 epochs with logs\n",
    "history = model.fit(X_train_preprocessed, y_train, epochs=10, batch_size=32, validation_split=0.2, verbose=1)"
   ]
  },
  {
   "cell_type": "markdown",
   "id": "3b4a45f4",
   "metadata": {},
   "source": [
    "## 7. Model Performance Visualization <a id='ch7'></a>"
   ]
  },
  {
   "cell_type": "markdown",
   "id": "9752fffc",
   "metadata": {},
   "source": [
    "After training our neural network, it's essential to visualize its performance over the training epochs. This visualization helps in understanding how the model learned and adjusted its parameters over time. Specifically, we're interested in two key metrics:\n",
    "\n",
    "1. <span style=\"color:red\">**Model Accuracy**</span>: This metric represents the proportion of correct predictions made by the model. A higher accuracy indicates that the model's predictions are aligning well with the actual values.\n",
    "\n",
    "2. <span style=\"color:red\">**Model Loss**</span>: Loss, often termed as cost or error, quantifies how well the predicted outcomes match the actual results. A lower loss indicates better model performance.\n",
    "\n",
    "For both metrics, we plot the values for the training and validation datasets:\n",
    "\n",
    "- **Training Data (Blue Line)**: Represents the model's performance on the data it was trained on.\n",
    "  \n",
    "- **Validation Data (Red Line)**: Indicates the model's performance on a subset of the training data that it hasn't seen during training. Monitoring the validation performance helps in early detection of overfitting.\n",
    "\n",
    "Let's dive into the visualizations:"
   ]
  },
  {
   "cell_type": "markdown",
   "id": "ba4f40bf",
   "metadata": {},
   "source": [
    "### Model Accuracy"
   ]
  },
  {
   "cell_type": "code",
   "execution_count": 7,
   "id": "81086ec1",
   "metadata": {},
   "outputs": [
    {
     "data": {
      "image/png": "[encoded data removed]",
      "text/plain": [
       "<Figure size 1008x504 with 1 Axes>"
      ]
     },
     "metadata": {
      "needs_background": "light"
     },
     "output_type": "display_data"
    }
   ],
   "source": [
    "# Plot training & validation accuracy values\n",
    "plt.figure(figsize=(14, 7))\n",
    "plt.plot(history.history['accuracy'], color='blue', label='Train')\n",
    "plt.plot(history.history['val_accuracy'], color='red', label='Validation')\n",
    "plt.title('Model Accuracy', fontsize=18)\n",
    "plt.ylabel('Accuracy', fontsize=16)\n",
    "plt.xlabel('Epoch', fontsize=16)\n",
    "plt.legend(loc='upper left', fontsize=14)\n",
    "plt.xticks(fontsize=14)\n",
    "plt.yticks(fontsize=14)\n",
    "plt.grid(True, which='both', linestyle='--', linewidth=0.5)\n",
    "plt.show()"
   ]
  },
  {
   "cell_type": "markdown",
   "id": "f9f51ca7",
   "metadata": {},
   "source": [
    "### Model Loss"
   ]
  },
  {
   "cell_type": "code",
   "execution_count": 8,
   "id": "d81b791e",
   "metadata": {},
   "outputs": [
    {
     "data": {
      "image/png": "[encoded data removed]",
      "text/plain": [
       "<Figure size 1008x504 with 1 Axes>"
      ]
     },
     "metadata": {
      "needs_background": "light"
     },
     "output_type": "display_data"
    }
   ],
   "source": [
    "# Plot training & validation loss values\n",
    "plt.figure(figsize=(14, 7))\n",
    "plt.plot(history.history['loss'], color='blue', label='Train')\n",
    "plt.plot(history.history['val_loss'], color='red', label='Validation')\n",
    "plt.title('Model Loss', fontsize=18)\n",
    "plt.ylabel('Loss', fontsize=16)\n",
    "plt.xlabel('Epoch', fontsize=16)\n",
    "plt.legend(loc='upper left', fontsize=14)\n",
    "plt.xticks(fontsize=14)\n",
    "plt.yticks(fontsize=14)\n",
    "plt.grid(True, which='both', linestyle='--', linewidth=0.5)\n",
    "plt.show()"
   ]
  },
  {
   "cell_type": "markdown",
   "id": "505b674f",
   "metadata": {},
   "source": [
    "## 8. Model Evaluation on Test Data <a id='ch8'></a>"
   ]
  },
  {
   "cell_type": "markdown",
   "id": "cf226752",
   "metadata": {},
   "source": [
    "Once our neural network model is trained, the next crucial step is to evaluate its performance on the test data. This dataset consists of samples that the model hasn't seen during training, making it an excellent benchmark to gauge the model's real-world performance.\n",
    "\n",
    "In this section, we'll:\n",
    "\n",
    "1. <span style=\"color:red\">**Make Predictions**</span>: Using our trained model, we'll predict the class labels for the test set. The `predict` method returns the probabilities for each class, so we use `np.argmax` to extract the class with the highest probability as our prediction.\n",
    "\n",
    "2. <span style=\"color:red\">**Calculate Test Accuracy**</span>: Accuracy is a straightforward metric that quantifies the proportion of correct predictions out of the total predictions made. A higher accuracy indicates that the model's predictions align well with the actual values.\n",
    "\n",
    "Let's proceed with the evaluation:"
   ]
  },
  {
   "cell_type": "code",
   "execution_count": 9,
   "id": "5f7b2aef",
   "metadata": {},
   "outputs": [
    {
     "name": "stdout",
     "output_type": "stream",
     "text": [
      "2/2 [==============================] - 0s 3ms/step\n",
      "Test Accuracy: 97.22%\n"
     ]
    }
   ],
   "source": [
    "# Make predictions on the test set\n",
    "y_pred = model.predict(X_test_preprocessed)\n",
    "y_pred_classes = np.argmax(y_pred, axis=1)\n",
    "\n",
    "# Calculate the accuracy on the test set\n",
    "test_accuracy = accuracy_score(y_test, y_pred_classes)\n",
    "\n",
    "# Print the test accuracy\n",
    "print(f\"Test Accuracy: {test_accuracy * 100:.2f}%\")"
   ]
  },
  {
   "cell_type": "markdown",
   "id": "e3c4c0f7",
   "metadata": {},
   "source": [
    "## 9. Confusion Matrix <a id='ch9'></a>"
   ]
  },
  {
   "cell_type": "markdown",
   "id": "8bddc93a",
   "metadata": {},
   "source": [
    "A **Confusion Matrix** is a powerful tool to understand the performance of a classification model. It provides a detailed breakdown of true positive, true negative, false positive, and false negative predictions for each class. This granularity allows us to pinpoint specific areas where the model might be struggling.\n",
    "\n",
    "In the matrix:\n",
    "- Rows represent the **actual classes**.\n",
    "- Columns represent the **predicted classes**.\n",
    "\n",
    "The diagonal elements represent the number of points for which the predicted label is equal to the true label, while off-diagonal elements are those that are mislabeled by the classifier.\n",
    "\n",
    "In this section, we'll:\n",
    "1. <span style=\"color:red\">**Calculate the Confusion Matrix**</span>: Using scikit-learn's `confusion_matrix` function, we'll compute the matrix for our test data predictions.\n",
    "  \n",
    "2. <span style=\"color:red\">**Visualize the Matrix**</span>: We'll use Seaborn's heatmap function to visualize the confusion matrix. This visualization will help us quickly identify which classes are being confused with others.\n",
    "\n",
    "Let's take a look at the confusion matrix for our model:"
   ]
  },
  {
   "cell_type": "code",
   "execution_count": 10,
   "id": "192fae74",
   "metadata": {},
   "outputs": [
    {
     "data": {
      "image/png": "[encoded data removed]",
      "text/plain": [
       "<Figure size 1008x504 with 2 Axes>"
      ]
     },
     "metadata": {
      "needs_background": "light"
     },
     "output_type": "display_data"
    }
   ],
   "source": [
    "# Calculate the confusion matrix\n",
    "cm = confusion_matrix(y_test, y_pred_classes)\n",
    "\n",
    "# Plot the confusion matrix\n",
    "plt.figure(figsize=(14, 7))\n",
    "sns.heatmap(cm, annot=True, fmt='g', cmap='Blues', xticklabels=wine.target_names, yticklabels=wine.target_names)\n",
    "plt.xlabel('Predicted labels', fontsize=14)\n",
    "plt.ylabel('True labels', fontsize=14)\n",
    "plt.title('Confusion Matrix', fontsize=16)\n",
    "plt.show()"
   ]
  },
  {
   "cell_type": "markdown",
   "id": "3a0769c1",
   "metadata": {},
   "source": [
    "## 10. Classification Report <a id='ch10'></a>"
   ]
  },
  {
   "cell_type": "markdown",
   "id": "fdec6e7f",
   "metadata": {},
   "source": [
    "After training and evaluating our neural network model, it's essential to dive deeper into its performance across different classes. A **Classification Report** provides a comprehensive breakdown of the model's performance metrics for each class, including:\n",
    "- **Precision**: The ratio of correctly predicted positive observations to the total predicted positives.\n",
    "- **Recall (Sensitivity)**: The ratio of correctly predicted positive observations to all observations in the actual class.\n",
    "- **F1-Score**: The weighted average of Precision and Recall. It tries to find the balance between precision and recall.\n",
    "- **Support**: The number of actual occurrences of the class in the specified dataset.\n",
    "\n",
    "These metrics provide a more granular understanding of where the model excels and where it might be lacking. For instance, a high precision indicates that false positives are low, while a high recall indicates that false negatives are low.\n",
    "\n",
    "In this section, we'll:\n",
    "1. <span style=\"color:red\">**Generate the Classification Report**</span>: Using scikit-learn's `classification_report` function, we'll compute these metrics for our test data predictions.\n",
    "  \n",
    "2. <span style=\"color:red\">**Visualize the Report**</span>: To make the report more readable, we'll convert it into a pandas DataFrame and display it with enhanced formatting.\n",
    "\n",
    "Let's take a detailed look at the classification report for our model:"
   ]
  },
  {
   "cell_type": "code",
   "execution_count": 11,
   "id": "6b763f6a",
   "metadata": {},
   "outputs": [
    {
     "data": {
      "text/html": [
       "\n",
       "<style>\n",
       "    table {\n",
       "        font-size: 24px;  \n",
       "    }\n",
       "    th {\n",
       "        font-size: 18px; \n",
       "    }\n",
       "</style>\n"
      ],
      "text/plain": [
       "<IPython.core.display.HTML object>"
      ]
     },
     "metadata": {},
     "output_type": "display_data"
    },
    {
     "data": {
      "text/markdown": [
       "### Classification Report"
      ],
      "text/plain": [
       "<IPython.core.display.Markdown object>"
      ]
     },
     "metadata": {},
     "output_type": "display_data"
    },
    {
     "data": {
      "text/html": [
       "<div>\n",
       "<style scoped>\n",
       "    .dataframe tbody tr th:only-of-type {\n",
       "        vertical-align: middle;\n",
       "    }\n",
       "\n",
       "    .dataframe tbody tr th {\n",
       "        vertical-align: top;\n",
       "    }\n",
       "\n",
       "    .dataframe thead th {\n",
       "        text-align: right;\n",
       "    }\n",
       "</style>\n",
       "<table border=\"1\" class=\"dataframe\">\n",
       "  <thead>\n",
       "    <tr style=\"text-align: right;\">\n",
       "      <th></th>\n",
       "      <th>precision</th>\n",
       "      <th>recall</th>\n",
       "      <th>f1-score</th>\n",
       "      <th>support</th>\n",
       "    </tr>\n",
       "  </thead>\n",
       "  <tbody>\n",
       "    <tr>\n",
       "      <th>class_0</th>\n",
       "      <td>1.00</td>\n",
       "      <td>1.00</td>\n",
       "      <td>1.00</td>\n",
       "      <td>18.00</td>\n",
       "    </tr>\n",
       "    <tr>\n",
       "      <th>class_1</th>\n",
       "      <td>1.00</td>\n",
       "      <td>0.92</td>\n",
       "      <td>0.96</td>\n",
       "      <td>13.00</td>\n",
       "    </tr>\n",
       "    <tr>\n",
       "      <th>class_2</th>\n",
       "      <td>0.83</td>\n",
       "      <td>1.00</td>\n",
       "      <td>0.91</td>\n",
       "      <td>5.00</td>\n",
       "    </tr>\n",
       "    <tr>\n",
       "      <th>accuracy</th>\n",
       "      <td>0.97</td>\n",
       "      <td>0.97</td>\n",
       "      <td>0.97</td>\n",
       "      <td>0.97</td>\n",
       "    </tr>\n",
       "    <tr>\n",
       "      <th>macro avg</th>\n",
       "      <td>0.94</td>\n",
       "      <td>0.97</td>\n",
       "      <td>0.96</td>\n",
       "      <td>36.00</td>\n",
       "    </tr>\n",
       "    <tr>\n",
       "      <th>weighted avg</th>\n",
       "      <td>0.98</td>\n",
       "      <td>0.97</td>\n",
       "      <td>0.97</td>\n",
       "      <td>36.00</td>\n",
       "    </tr>\n",
       "  </tbody>\n",
       "</table>\n",
       "</div>"
      ],
      "text/plain": [
       "              precision  recall  f1-score  support\n",
       "class_0            1.00    1.00      1.00    18.00\n",
       "class_1            1.00    0.92      0.96    13.00\n",
       "class_2            0.83    1.00      0.91     5.00\n",
       "accuracy           0.97    0.97      0.97     0.97\n",
       "macro avg          0.94    0.97      0.96    36.00\n",
       "weighted avg       0.98    0.97      0.97    36.00"
      ]
     },
     "metadata": {},
     "output_type": "display_data"
    }
   ],
   "source": [
    "# Set the display option for floating point numbers\n",
    "pd.options.display.float_format = \"{:,.2f}\".format\n",
    "\n",
    "# Generate the classification report\n",
    "report = classification_report(y_test, y_pred_classes, target_names=wine.target_names, output_dict=True)\n",
    "\n",
    "# Convert the report dictionary to a DataFrame for better visualization\n",
    "report_df = pd.DataFrame(report).transpose()\n",
    "\n",
    "# Create a custom CSS style for larger font sizes\n",
    "style = \"\"\"\n",
    "<style>\n",
    "    table {\n",
    "        font-size: 24px;  \n",
    "    }\n",
    "    th {\n",
    "        font-size: 18px; \n",
    "    }\n",
    "</style>\n",
    "\"\"\"\n",
    "\n",
    "# Display the custom style\n",
    "display(HTML(style))\n",
    "\n",
    "# Display the report using Markdown\n",
    "display(Markdown(\"### Classification Report\"))\n",
    "display(report_df)"
   ]
  },
  {
   "cell_type": "markdown",
   "id": "84f1d9ee",
   "metadata": {},
   "source": [
    "## 11. Conclusion<a id='ch11'></a>"
   ]
  },
  {
   "cell_type": "markdown",
   "id": "08291638",
   "metadata": {},
   "source": [
    "Throughout this analysis, we embarked on a journey to understand the intricacies of the Wine dataset, exploring the relationships between various chemical properties and the types of wines. Our exploration began with building a neural network model, which provided a foundational understanding of the data's structure and the potential predictors.\n",
    "\n",
    "The neural network model, focusing on the selected features of the dataset, achieved an impressive accuracy of 97%. This indicates that the model was able to correctly classify 97% of the wine samples into their respective types based on their chemical properties.\n",
    "\n",
    "As we delved deeper into the model's performance, we visualized the training process, observing how the model's accuracy and loss evolved over epochs. This visualization provided insights into the model's learning trajectory, highlighting its ability to learn and adapt to the training data.\n",
    "\n",
    "Furthermore, the **confusion matrix** and **classification report** offered a detailed breakdown of the model's performance on each class. The model showcased exceptional prowess in classifying the 'class_0' wines, achieving a precision, recall, and f1-score of 1.00. The 'class_1' wines also saw high precision and recall, with an f1-score of 0.96. The 'class_2' wines, while having a slightly lower precision of 0.83, still achieved a perfect recall, indicating that the model was able to identify all samples of this class correctly.\n",
    "\n",
    "In conclusion, the chemical properties play a pivotal role in determining the types of wines. The neural network model's performance underscores the power of deep learning in handling classification tasks, even with a relatively small dataset like the Wine dataset. The progression from data preprocessing to model evaluation emphasizes the importance of each step in the machine learning pipeline and the potential of neural networks in making accurate classifications."
   ]
  }
 ],
 "metadata": {
  "kernelspec": {
   "display_name": "Python 3 (ipykernel)",
   "language": "python",
   "name": "python3"
  },
  "language_info": {
   "codemirror_mode": {
    "name": "ipython",
    "version": 3
   },
   "file_extension": ".py",
   "mimetype": "text/x-python",
   "name": "python",
   "nbconvert_exporter": "python",
   "pygments_lexer": "ipython3",
   "version": "3.9.12"
  }
 },
 "nbformat": 4,
 "nbformat_minor": 5
}

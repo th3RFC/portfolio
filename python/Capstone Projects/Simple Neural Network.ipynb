{
 "cells": [
  {
   "cell_type": "markdown",
   "id": "f1e3ebef",
   "metadata": {},
   "source": [
    "# Introduction: Simple Neural Network with Iris Dataset"
   ]
  },
  {
   "cell_type": "markdown",
   "id": "f180c2cd",
   "metadata": {},
   "source": [
    "Welcome to this Jupyter Notebook, where we'll be diving deep into the fascinating world of neural networks using the renowned **Iris Dataset**. This dataset, often considered the \"Hello World\" of machine learning, provides a perfect playground to understand the intricacies of neural network modeling. In this analysis, we'll construct a neural network model to classify iris flowers into one of three species based on their sepal and petal measurements.\n",
    "\n",
    "### Objective:\n",
    "Our primary goal is to understand the relationships between the sepal and petal measurements of iris flowers and their respective species. By constructing a neural network model, we aim to classify the flowers into their correct species based on these measurements. The model's performance will be assessed using various metrics, ensuring its robustness and accuracy.\n",
    "\n",
    "$$\\Large \\displaystyle \\hat{y}_i = f(W \\cdot x_i + b)$$\n",
    "\n",
    " - \\$\\hat{y}_i \\$ is the predicted class label for the \\$i^{th} \\$ observation.\n",
    " - \\$ W \\$ represents the weight matrix of the neural network.\n",
    " - \\$ x_i \\$ is the feature vector for the \\$ i^{th} \\$ observation.\n",
    " - \\$ b \\$ is the bias vector of the neural network.\n",
    " - \\$ f \\$ is the activation function used in the neural network.\n",
    "\n",
    "### Dataset Overview:\n",
    "The Iris Dataset is a classic dataset in pattern recognition literature. It contains three classes of 50 instances each, where each class refers to a type of iris plant. The dataset has four features which represent the physical dimensions of the flowers.\n",
    "\n",
    "### Structure of this Notebook:\n",
    "1. [Installing and Importing Necessary Libraries](#ch1)\n",
    "2. [Loading the Iris Dataset](#ch2)\n",
    "3. [Splitting the Data](#ch3)\n",
    "4. [Data Processing](#ch4)\n",
    "5. [Constructing and Compiling the Neural Network Model](#ch5)\n",
    "6. [Training the Neural Network](#ch6)\n",
    "7. [Model Performance Visualization](#ch7)\n",
    "8. [Model Evaluation on Test Data](#ch8)\n",
    "9. [Confusion Matrix](#ch9)\n",
    "10. [Classification Report](#ch10)\n",
    "11. [Conclusion](#ch11)\n",
    "\n",
    "By the end of this notebook, you'll have a comprehensive understanding of how to build, train, and evaluate a neural network model using Python, TensorFlow, and Keras. You'll also gain insights into the importance of data preprocessing and visualization in the machine learning pipeline. Let's dive in and explore the world of neural networks!"
   ]
  },
  {
   "cell_type": "markdown",
   "id": "8af51f69",
   "metadata": {},
   "source": [
    "## 1. Installing and Importing Necessary Libraries <a id='ch1'></a>"
   ]
  },
  {
   "cell_type": "markdown",
   "id": "0a4460ec",
   "metadata": {},
   "source": [
    "Before starting our analysis, we need to import the necessary Python libraries that will be used throughout this notebook:\n",
    "\n",
    "- **`pandas`** and **`numpy`**: Foundational libraries for data manipulation, analysis, and numerical operations. They provide data structures for efficiently storing large datasets and tools for reshaping, aggregating, and merging data.\n",
    "\n",
    "- **`matplotlib` and **`seaborn`**: Essential libraries for data visualization. They offer a wide range of plotting tools and techniques that can enhance the understanding of our data.\n",
    "\n",
    "- **`IPython.display`**: Provides utilities for displaying objects in Jupyter, enhancing the interactivity and presentation of our notebook.\n",
    "\n",
    "- **`sklearn.datasets`**: From scikit-learn, this module allows us to fetch datasets, including the Iris dataset, providing a convenient way to load data for our analysis.\n",
    "\n",
    "- **`sklearn.model_selection`**: This module offers various utilities for model selection, including `train_test_split` for partitioning our data.\n",
    "\n",
    "- **`sklearn.preprocessing`** and **`sklearn.pipeline`**: Offer common utility functions and transformer classes to change raw feature vectors into a representation more suitable for downstream estimators. We'll use `StandardScaler` to standardize features and `Pipeline` to streamline many of the routine processes.\n",
    "\n",
    "- **`tensorflow`** and **`keras`**: Libraries for building and training neural networks. They provide a wide range of tools and utilities for deep learning, allowing us to construct, train, and evaluate neural network models.\n",
    "\n",
    "- **`sklearn.metrics`**: Provides functions for model evaluation, including `classification_report` and `accuracy_score` to measure the performance of our classification model, and `confusion_matrix` to evaluate the accuracy of classification by comparing the actual and predicted classes.\n",
    "\n",
    "By importing these libraries upfront, we ensure a smooth workflow, allowing us to focus on the core analysis without interruptions."
   ]
  },
  {
   "cell_type": "code",
   "execution_count": 1,
   "id": "5d103188",
   "metadata": {},
   "outputs": [],
   "source": [
    "# Basic libraries\n",
    "import pandas as pd\n",
    "import numpy as np\n",
    "import matplotlib.pyplot as plt\n",
    "import seaborn as sns\n",
    "from IPython.display import display, HTML, Markdown\n",
    "\n",
    "# Dataset\n",
    "from sklearn.datasets import load_iris\n",
    "\n",
    "# Data preprocessing and utilities\n",
    "from sklearn.model_selection import train_test_split\n",
    "from sklearn.preprocessing import StandardScaler\n",
    "from sklearn.pipeline import Pipeline\n",
    "\n",
    "# Neural Network\n",
    "import tensorflow as tf\n",
    "from tensorflow import keras\n",
    "from tensorflow.keras.models import Sequential\n",
    "from tensorflow.keras.layers import Dense\n",
    "\n",
    "# Metrics and evaluation\n",
    "from sklearn.metrics import classification_report, accuracy_score, confusion_matrix"
   ]
  },
  {
   "cell_type": "markdown",
   "id": "a1c287da",
   "metadata": {},
   "source": [
    "## 2. Loading the Iris Dataset <a id='ch2'></a>"
   ]
  },
  {
   "cell_type": "markdown",
   "id": "7011d9a9",
   "metadata": {},
   "source": [
    "The **Iris Dataset** is one of the most iconic datasets in the field of machine learning and statistics. Introduced by the British biologist and statistician Ronald Fisher in 1936, it has since become a staple for introductory classification tasks in machine learning.\n",
    "\n",
    "The dataset consists of **150 samples** from each of three species of Iris flowers (Iris setosa, Iris virginica, and Iris versicolor). Four features were measured from each sample: the lengths and the widths of the sepals and petals.\n",
    "\n",
    "For our analysis, we'll utilize all of the available features in the dataset to classify the flowers into one of the three species:\n",
    "\n",
    "- `sepal length (cm)`: The length of the sepal, which is the part of the flower that encases the budding petal.\n",
    "\n",
    "- `sepal width (cm)`: The width of the sepal.\n",
    "\n",
    "- `petal length (cm)`: The length of the petal, which is the colorful part of the flower that attracts pollinators.\n",
    "\n",
    "- `petal width (cm)`: The width of the petal.\n",
    "\n",
    "These features capture various physical characteristics of the flowers, and they have been found to be discriminative enough to distinguish between the three species of Iris.\n",
    "\n",
    "To load the dataset, we use the `load_iris` function from scikit-learn. This function provides a convenient way to load the Iris dataset, making it easy to access for machine learning and data analysis."
   ]
  },
  {
   "cell_type": "code",
   "execution_count": 2,
   "id": "78087dda",
   "metadata": {},
   "outputs": [
    {
     "data": {
      "text/html": [
       "<div>\n",
       "<style scoped>\n",
       "    .dataframe tbody tr th:only-of-type {\n",
       "        vertical-align: middle;\n",
       "    }\n",
       "\n",
       "    .dataframe tbody tr th {\n",
       "        vertical-align: top;\n",
       "    }\n",
       "\n",
       "    .dataframe thead th {\n",
       "        text-align: right;\n",
       "    }\n",
       "</style>\n",
       "<table border=\"1\" class=\"dataframe\">\n",
       "  <thead>\n",
       "    <tr style=\"text-align: right;\">\n",
       "      <th></th>\n",
       "      <th>sepal length (cm)</th>\n",
       "      <th>sepal width (cm)</th>\n",
       "      <th>petal length (cm)</th>\n",
       "      <th>petal width (cm)</th>\n",
       "      <th>target</th>\n",
       "    </tr>\n",
       "  </thead>\n",
       "  <tbody>\n",
       "    <tr>\n",
       "      <th>0</th>\n",
       "      <td>5.1</td>\n",
       "      <td>3.5</td>\n",
       "      <td>1.4</td>\n",
       "      <td>0.2</td>\n",
       "      <td>0</td>\n",
       "    </tr>\n",
       "    <tr>\n",
       "      <th>1</th>\n",
       "      <td>4.9</td>\n",
       "      <td>3.0</td>\n",
       "      <td>1.4</td>\n",
       "      <td>0.2</td>\n",
       "      <td>0</td>\n",
       "    </tr>\n",
       "    <tr>\n",
       "      <th>2</th>\n",
       "      <td>4.7</td>\n",
       "      <td>3.2</td>\n",
       "      <td>1.3</td>\n",
       "      <td>0.2</td>\n",
       "      <td>0</td>\n",
       "    </tr>\n",
       "    <tr>\n",
       "      <th>3</th>\n",
       "      <td>4.6</td>\n",
       "      <td>3.1</td>\n",
       "      <td>1.5</td>\n",
       "      <td>0.2</td>\n",
       "      <td>0</td>\n",
       "    </tr>\n",
       "    <tr>\n",
       "      <th>4</th>\n",
       "      <td>5.0</td>\n",
       "      <td>3.6</td>\n",
       "      <td>1.4</td>\n",
       "      <td>0.2</td>\n",
       "      <td>0</td>\n",
       "    </tr>\n",
       "  </tbody>\n",
       "</table>\n",
       "</div>"
      ],
      "text/plain": [
       "   sepal length (cm)  sepal width (cm)  petal length (cm)  petal width (cm)  \\\n",
       "0                5.1               3.5                1.4               0.2   \n",
       "1                4.9               3.0                1.4               0.2   \n",
       "2                4.7               3.2                1.3               0.2   \n",
       "3                4.6               3.1                1.5               0.2   \n",
       "4                5.0               3.6                1.4               0.2   \n",
       "\n",
       "   target  \n",
       "0       0  \n",
       "1       0  \n",
       "2       0  \n",
       "3       0  \n",
       "4       0  "
      ]
     },
     "execution_count": 2,
     "metadata": {},
     "output_type": "execute_result"
    }
   ],
   "source": [
    "# Load the Iris dataset\n",
    "iris = load_iris()\n",
    "\n",
    "# Convert the dataset to a pandas DataFrame\n",
    "data = pd.DataFrame(data=iris.data, columns=iris.feature_names)\n",
    "data['target'] = iris.target\n",
    "\n",
    "# Display the first few rows of the dataset\n",
    "data.head()"
   ]
  },
  {
   "cell_type": "markdown",
   "id": "b33b3658",
   "metadata": {},
   "source": [
    "## 3. Splitting the Data <a id='ch3'></a>"
   ]
  },
  {
   "cell_type": "markdown",
   "id": "c561a681",
   "metadata": {},
   "source": [
    "Before training our neural network model, it's crucial to partition the dataset into two subsets: a <span style=\"color:red\">**training set**</span> and a <span style=\"color:red\">**testing set**</span>. This division allows us to train our model on one subset of the data and subsequently evaluate its performance on an independent, unseen subset. Adopting this strategy provides insight into how well our model will likely generalize to new, unseen data.\n",
    "\n",
    "For this task, we employ the `train_test_split` function from scikit-learn:\n",
    "\n",
    "- `X_train`, `y_train`: These represent the features and target variable for the training set, respectively. Our model will be trained using this data.\n",
    "\n",
    "- `X_test`, `y_test`: These denote the features and target variable for the testing set, respectively. This data will be instrumental in assessing the model's performance.\n",
    "\n",
    "We've allocated 20% of the data for testing purposes (`test_size=0.2`). The `random_state` parameter is set to 1337, ensuring reproducibility in our data splits. This guarantees that each time we execute this code, the same train/test partition is maintained, facilitating consistent results and comparisons."
   ]
  },
  {
   "cell_type": "code",
   "execution_count": 3,
   "id": "f7077775",
   "metadata": {},
   "outputs": [
    {
     "name": "stdout",
     "output_type": "stream",
     "text": [
      "Training set size: 120 samples\n",
      "Testing set size: 30 samples\n"
     ]
    }
   ],
   "source": [
    "# Separate features and target variable\n",
    "X = data.drop('target', axis=1)\n",
    "y = data['target']\n",
    "\n",
    "# Splitting the data into training and testing sets\n",
    "X_train, X_test, y_train, y_test = train_test_split(X, y, test_size=0.2, random_state=1337)\n",
    "\n",
    "print(f\"Training set size: {X_train.shape[0]} samples\")\n",
    "print(f\"Testing set size: {X_test.shape[0]} samples\")"
   ]
  },
  {
   "cell_type": "markdown",
   "id": "0b3efed4",
   "metadata": {},
   "source": [
    "## 4. Data Processing <a id='ch4'></a>"
   ]
  },
  {
   "cell_type": "markdown",
   "id": "ef5ca3eb",
   "metadata": {},
   "source": [
    "Data preprocessing is an indispensable step in the machine learning workflow. It entails transforming the raw data to make it suitable for model training. For the **Iris Dataset**, our preprocessing tasks will be streamlined:\n",
    "\n",
    "1. <span style=\"color:red\">**Standardization**</span>: Neural networks often benefit from having input features that are on a similar scale, with a mean close to 0 and a standard deviation close to 1. This is because features with vastly different scales can result in uneven weight updates, potentially causing the model to converge to a suboptimal solution or even fail to converge at all. \n",
    " - **StandardScaler**: We'll use the `StandardScaler` from scikit-learn to standardize our features. This scaler subtracts the mean and divides by the standard deviation for each feature, ensuring that the transformed feature has a mean of 0 and a standard deviation of 1.\n",
    "\n",
    "\n",
    "2. <span style=\"color:red\">**Constructing the Preprocessing Pipeline**</span>: To ensure a consistent application of preprocessing steps, we'll employ a `Pipeline`. This tool allows us to define a series of transformations that will be applied in sequence. For our dataset:\n",
    " - **Pipeline**: Our pipeline will begin with the standardization step. This ensures that every time we pass data through this pipeline, it undergoes the same sequence of transformations, maintaining consistency and reducing the potential for errors.\n",
    "\n",
    "By diligently preprocessing our data, we set the stage for the subsequent modeling phase, ensuring that our neural network operates on standardized and well-structured data."
   ]
  },
  {
   "cell_type": "code",
   "execution_count": 4,
   "id": "3e240d4b",
   "metadata": {},
   "outputs": [],
   "source": [
    "# Create a pipeline for data preprocessing\n",
    "preprocessor = Pipeline([\n",
    "    ('scaler', StandardScaler())\n",
    "])\n",
    "\n",
    "# Fit the preprocessor to the training data and transform it\n",
    "X_train_preprocessed = preprocessor.fit_transform(X_train)\n",
    "X_test_preprocessed = preprocessor.transform(X_test)"
   ]
  },
  {
   "cell_type": "markdown",
   "id": "23f24f31",
   "metadata": {},
   "source": [
    "## 5. Constructing and Compiling the Neural Network Model <a id='ch5'></a>"
   ]
  },
  {
   "cell_type": "markdown",
   "id": "6eb3d19a",
   "metadata": {},
   "source": [
    "With our data preprocessed and ready, the next pivotal step is to construct our neural network model. Neural networks are a subset of machine learning models inspired by the structure of the human brain. They consist of interconnected nodes (neurons) organized into layers. For our analysis, we'll be using the `Sequential` model from TensorFlow's Keras API, which allows for the linear stacking of layers.\n",
    "\n",
    "The construction and training of our neural network involve several steps:\n",
    "\n",
    "- <span style=\"color:red\">**Building the Neural Network Architecture**</span>: Our neural network will comprise three layers:\n",
    "  - **Input Layer**: This layer will have 10 neurons and use the ReLU (Rectified Linear Unit) activation function. The `input_shape` matches the number of features in our dataset.\n",
    "  - **Hidden Layer**: Another layer with 10 neurons, also using the ReLU activation function. This layer will learn complex patterns and relationships from the data.\n",
    "  - **Output Layer**: This layer will have 3 neurons, corresponding to the three classes of the Iris dataset. It uses the softmax activation function, ensuring the output values are probabilities that sum up to 1.\n",
    "\n",
    "- <span style=\"color:red\">**Compiling the Model**</span>: Once the architecture is defined, we need to compile the model. This step specifies the optimizer, loss function, and metrics for evaluation. We're using:\n",
    "  - **Optimizer**: Adam, an adaptive learning rate optimization algorithm that's efficient and requires little memory.\n",
    "  - **Loss Function**: `sparse_categorical_crossentropy`, suitable for multi-class classification problems where labels are integers.\n",
    "  - **Metrics**: Accuracy, which calculates the proportion of correctly predicted classifications in the dataset.\n",
    "\n",
    "- <span style=\"color:red\">**Model Summary**</span>: After compiling, we display a summary of our model's architecture, showing the layers, their type, output shape, and the number of parameters.\n",
    "\n",
    "By meticulously constructing and compiling our neural network, we lay the groundwork for the subsequent training phase, ensuring our model is well-suited to recognize patterns in the Iris dataset."
   ]
  },
  {
   "cell_type": "code",
   "execution_count": 5,
   "id": "d3ca225b",
   "metadata": {},
   "outputs": [
    {
     "name": "stdout",
     "output_type": "stream",
     "text": [
      "Model: \"sequential\"\n",
      "_________________________________________________________________\n",
      " Layer (type)                Output Shape              Param #   \n",
      "=================================================================\n",
      " dense (Dense)               (None, 10)                50        \n",
      "                                                                 \n",
      " dense_1 (Dense)             (None, 10)                110       \n",
      "                                                                 \n",
      " dense_2 (Dense)             (None, 3)                 33        \n",
      "                                                                 \n",
      "=================================================================\n",
      "Total params: 193\n",
      "Trainable params: 193\n",
      "Non-trainable params: 0\n",
      "_________________________________________________________________\n"
     ]
    }
   ],
   "source": [
    "# Build the Neural Network Model\n",
    "model = Sequential([\n",
    "    Dense(10, activation='relu', input_shape=(X_train_preprocessed.shape[1],)),  # Input layer\n",
    "    Dense(10, activation='relu'),  # Hidden layer\n",
    "    Dense(3, activation='softmax')  # Output layer\n",
    "])\n",
    "\n",
    "# Compile the Model\n",
    "model.compile(optimizer='adam', loss='sparse_categorical_crossentropy', metrics=['accuracy'])\n",
    "\n",
    "# Display the model's architecture\n",
    "model.summary()"
   ]
  },
  {
   "cell_type": "markdown",
   "id": "0fa007e1",
   "metadata": {},
   "source": [
    "## 6. Training the Neural Network <a id='ch6'></a>"
   ]
  },
  {
   "cell_type": "markdown",
   "id": "44459dd8",
   "metadata": {},
   "source": [
    "With our neural network model constructed and compiled, the next step is to train it using our preprocessed training data. Training a neural network involves feeding it data and adjusting the internal parameters to minimize the prediction error. The process is iterative, with the model making predictions and updating its weights and biases in response to the error it made.\n",
    "\n",
    "Here's a breakdown of our training process:\n",
    "\n",
    "- <span style=\"color:red\">**Initial Training Phase**</span>: We start by training the model for 40 epochs without displaying the training logs (`verbose=0`). An epoch is a single pass through the entire training dataset. This initial phase allows the model to adjust its weights and biases based on the data, setting the stage for more refined training in the subsequent phase.\n",
    "\n",
    "- <span style=\"color:red\">**Refined Training Phase**</span>: After the initial 40 epochs, we continue training the model for an additional 10 epochs, this time displaying the training logs (`verbose=1`). This provides insights into the model's performance, showing metrics like loss and accuracy for both the training and validation datasets. The validation dataset, which is a subset of the training data (`validation_split=0.2`), helps monitor the model's performance on unseen data during training, aiding in early detection of overfitting.\n",
    "\n",
    "The `batch_size` parameter is set to 32, meaning the model updates its weights after every 32 samples. This batched approach helps in stabilizing the training process and achieving faster convergence.\n",
    "\n",
    "By the end of the 50 epochs, our neural network will have adjusted its parameters to better predict the target variable, setting the stage for evaluation and performance assessment."
   ]
  },
  {
   "cell_type": "code",
   "execution_count": 6,
   "id": "d7a22b3b",
   "metadata": {},
   "outputs": [
    {
     "name": "stdout",
     "output_type": "stream",
     "text": [
      "Epoch 1/10\n",
      "3/3 [==============================] - 0s 57ms/step - loss: 0.6544 - accuracy: 0.8125 - val_loss: 0.6304 - val_accuracy: 0.8750\n",
      "Epoch 2/10\n",
      "3/3 [==============================] - 0s 37ms/step - loss: 0.6420 - accuracy: 0.8125 - val_loss: 0.6197 - val_accuracy: 0.8750\n",
      "Epoch 3/10\n",
      "3/3 [==============================] - 0s 40ms/step - loss: 0.6297 - accuracy: 0.8125 - val_loss: 0.6098 - val_accuracy: 0.8750\n",
      "Epoch 4/10\n",
      "3/3 [==============================] - 0s 38ms/step - loss: 0.6172 - accuracy: 0.8125 - val_loss: 0.6003 - val_accuracy: 0.8750\n",
      "Epoch 5/10\n",
      "3/3 [==============================] - 0s 41ms/step - loss: 0.6055 - accuracy: 0.8125 - val_loss: 0.5908 - val_accuracy: 0.8750\n",
      "Epoch 6/10\n",
      "3/3 [==============================] - 0s 46ms/step - loss: 0.5939 - accuracy: 0.8229 - val_loss: 0.5811 - val_accuracy: 0.8750\n",
      "Epoch 7/10\n",
      "3/3 [==============================] - 0s 34ms/step - loss: 0.5819 - accuracy: 0.8229 - val_loss: 0.5720 - val_accuracy: 0.8750\n",
      "Epoch 8/10\n",
      "3/3 [==============================] - 0s 32ms/step - loss: 0.5714 - accuracy: 0.8229 - val_loss: 0.5628 - val_accuracy: 0.8750\n",
      "Epoch 9/10\n",
      "3/3 [==============================] - 0s 37ms/step - loss: 0.5599 - accuracy: 0.8229 - val_loss: 0.5538 - val_accuracy: 0.8750\n",
      "Epoch 10/10\n",
      "3/3 [==============================] - 0s 39ms/step - loss: 0.5493 - accuracy: 0.8229 - val_loss: 0.5450 - val_accuracy: 0.8750\n"
     ]
    }
   ],
   "source": [
    "# Train the model for the first 40 epochs without showing logs\n",
    "model.fit(X_train_preprocessed, y_train, epochs=40, batch_size=32, validation_split=0.2, verbose=0)\n",
    "\n",
    "# Train the model for the last 10 epochs with logs\n",
    "history = model.fit(X_train_preprocessed, y_train, epochs=10, batch_size=32, validation_split=0.2, verbose=1)"
   ]
  },
  {
   "cell_type": "markdown",
   "id": "7a4dc6b2",
   "metadata": {},
   "source": [
    "## 7. Model Performance Visualization <a id='ch7'></a>"
   ]
  },
  {
   "cell_type": "markdown",
   "id": "140f8f68",
   "metadata": {},
   "source": [
    "After training our neural network, it's essential to visualize its performance over the training epochs. This visualization helps in understanding how the model learned and adjusted its parameters over time. Specifically, we're interested in two key metrics:\n",
    "\n",
    "1. <span style=\"color:red\">**Model Accuracy**</span>: This metric represents the proportion of correct predictions made by the model. A higher accuracy indicates that the model's predictions are aligning well with the actual values.\n",
    "\n",
    "2. <span style=\"color:red\">**Model Loss**</span>: Loss, often termed as cost or error, quantifies how well the predicted outcomes match the actual results. A lower loss indicates better model performance.\n",
    "\n",
    "For both metrics, we plot the values for the training and validation datasets:\n",
    "\n",
    "- **Training Data (Blue Line)**: Represents the model's performance on the data it was trained on.\n",
    "  \n",
    "- **Validation Data (Red Line)**: Indicates the model's performance on a subset of the training data that it hasn't seen during training. Monitoring the validation performance helps in early detection of overfitting.\n",
    "\n",
    "Let's dive into the visualizations:"
   ]
  },
  {
   "cell_type": "markdown",
   "id": "6f6034b1",
   "metadata": {},
   "source": [
    "### Model Accuracy"
   ]
  },
  {
   "cell_type": "code",
   "execution_count": 7,
   "id": "40916a25",
   "metadata": {},
   "outputs": [
    {
     "data": {
      "image/png": "[encoded data removed]",
      "text/plain": [
       "<Figure size 1008x504 with 1 Axes>"
      ]
     },
     "metadata": {
      "needs_background": "light"
     },
     "output_type": "display_data"
    }
   ],
   "source": [
    "# Plot training & validation accuracy values\n",
    "plt.figure(figsize=(14, 7))\n",
    "plt.plot(history.history['accuracy'], color='blue', label='Train')\n",
    "plt.plot(history.history['val_accuracy'], color='red', label='Validation')\n",
    "plt.title('Model Accuracy', fontsize=18)\n",
    "plt.ylabel('Accuracy', fontsize=16)\n",
    "plt.xlabel('Epoch', fontsize=16)\n",
    "plt.legend(loc='upper left', fontsize=14)\n",
    "plt.xticks(fontsize=14)\n",
    "plt.yticks(fontsize=14)\n",
    "plt.grid(True, which='both', linestyle='--', linewidth=0.5)\n",
    "plt.show()"
   ]
  },
  {
   "cell_type": "markdown",
   "id": "49e80fd8",
   "metadata": {},
   "source": [
    "### Model Loss"
   ]
  },
  {
   "cell_type": "code",
   "execution_count": 8,
   "id": "9920c895",
   "metadata": {},
   "outputs": [
    {
     "data": {
      "image/png": "[encoded data removed]",
      "text/plain": [
       "<Figure size 1008x504 with 1 Axes>"
      ]
     },
     "metadata": {
      "needs_background": "light"
     },
     "output_type": "display_data"
    }
   ],
   "source": [
    "# Plot training & validation loss values\n",
    "plt.figure(figsize=(14, 7))\n",
    "plt.plot(history.history['loss'], color='blue', label='Train')\n",
    "plt.plot(history.history['val_loss'], color='red', label='Validation')\n",
    "plt.title('Model Loss', fontsize=18)\n",
    "plt.ylabel('Loss', fontsize=16)\n",
    "plt.xlabel('Epoch', fontsize=16)\n",
    "plt.legend(loc='upper left', fontsize=14)\n",
    "plt.xticks(fontsize=14)\n",
    "plt.yticks(fontsize=14)\n",
    "plt.grid(True, which='both', linestyle='--', linewidth=0.5)\n",
    "plt.show()"
   ]
  },
  {
   "cell_type": "markdown",
   "id": "eb0ac134",
   "metadata": {},
   "source": [
    "## 8. Model Evaluation on Test Data <a id='ch8'></a>"
   ]
  },
  {
   "cell_type": "markdown",
   "id": "932a7827",
   "metadata": {},
   "source": [
    "Once our neural network model is trained, the next crucial step is to evaluate its performance on the test data. This dataset consists of samples that the model hasn't seen during training, making it an excellent benchmark to gauge the model's real-world performance.\n",
    "\n",
    "In this section, we'll:\n",
    "\n",
    "1. <span style=\"color:red\">**Make Predictions**</span>: Using our trained model, we'll predict the class labels for the test set. The `predict` method returns the probabilities for each class, so we use `np.argmax` to extract the class with the highest probability as our prediction.\n",
    "\n",
    "2. <span style=\"color:red\">**Calculate Test Accuracy**</span>: Accuracy is a straightforward metric that quantifies the proportion of correct predictions out of the total predictions made. A higher accuracy indicates that the model's predictions align well with the actual values.\n",
    "\n",
    "Let's proceed with the evaluation:"
   ]
  },
  {
   "cell_type": "code",
   "execution_count": 9,
   "id": "6c3dd6e6",
   "metadata": {},
   "outputs": [
    {
     "name": "stdout",
     "output_type": "stream",
     "text": [
      "1/1 [==============================] - 0s 121ms/step\n",
      "Test Accuracy: 90.00%\n"
     ]
    }
   ],
   "source": [
    "# Make predictions on the test set\n",
    "y_pred = model.predict(X_test_preprocessed)\n",
    "y_pred_classes = np.argmax(y_pred, axis=1)\n",
    "\n",
    "# Calculate the accuracy on the test set\n",
    "test_accuracy = accuracy_score(y_test, y_pred_classes)\n",
    "\n",
    "# Print the test accuracy\n",
    "print(f\"Test Accuracy: {test_accuracy * 100:.2f}%\")"
   ]
  },
  {
   "cell_type": "markdown",
   "id": "94d35442",
   "metadata": {},
   "source": [
    "## 9. Confusion Matrix <a id='ch9'></a>"
   ]
  },
  {
   "cell_type": "markdown",
   "id": "1ae8a462",
   "metadata": {},
   "source": [
    "A **Confusion Matrix** is a powerful tool to understand the performance of a classification model. It provides a detailed breakdown of true positive, true negative, false positive, and false negative predictions for each class. This granularity allows us to pinpoint specific areas where the model might be struggling.\n",
    "\n",
    "In the matrix:\n",
    "- Rows represent the **actual classes**.\n",
    "- Columns represent the **predicted classes**.\n",
    "\n",
    "The diagonal elements represent the number of points for which the predicted label is equal to the true label, while off-diagonal elements are those that are mislabeled by the classifier.\n",
    "\n",
    "In this section, we'll:\n",
    "1. <span style=\"color:red\">**Calculate the Confusion Matrix**</span>: Using scikit-learn's `confusion_matrix` function, we'll compute the matrix for our test data predictions.\n",
    "  \n",
    "2. <span style=\"color:red\">**Visualize the Matrix**</span>: We'll use Seaborn's heatmap function to visualize the confusion matrix. This visualization will help us quickly identify which classes are being confused with others.\n",
    "\n",
    "Let's take a look at the confusion matrix for our model:"
   ]
  },
  {
   "cell_type": "code",
   "execution_count": 10,
   "id": "0442d24e",
   "metadata": {},
   "outputs": [
    {
     "data": {
      "image/png": "[encoded data removed]",
      "text/plain": [
       "<Figure size 1008x504 with 2 Axes>"
      ]
     },
     "metadata": {
      "needs_background": "light"
     },
     "output_type": "display_data"
    }
   ],
   "source": [
    "# Calculate the confusion matrix\n",
    "cm = confusion_matrix(y_test, y_pred_classes)\n",
    "\n",
    "# Plot the confusion matrix\n",
    "plt.figure(figsize=(14, 7))\n",
    "sns.heatmap(cm, annot=True, fmt='g', cmap='Blues', xticklabels=iris.target_names, yticklabels=iris.target_names)\n",
    "plt.xlabel('Predicted labels', fontsize=14)\n",
    "plt.ylabel('True labels', fontsize=14)\n",
    "plt.title('Confusion Matrix', fontsize=16)\n",
    "plt.show()"
   ]
  },
  {
   "cell_type": "markdown",
   "id": "7a7ff324",
   "metadata": {},
   "source": [
    "## 10. Classification Report <a id='ch10'></a>"
   ]
  },
  {
   "cell_type": "markdown",
   "id": "cb066951",
   "metadata": {},
   "source": [
    "After training and evaluating our neural network model, it's essential to dive deeper into its performance across different classes. A **Classification Report** provides a comprehensive breakdown of the model's performance metrics for each class, including:\n",
    "- **Precision**: The ratio of correctly predicted positive observations to the total predicted positives.\n",
    "- **Recall (Sensitivity)**: The ratio of correctly predicted positive observations to the all observations in actual class.\n",
    "- **F1-Score**: The weighted average of Precision and Recall. It tries to find the balance between precision and recall.\n",
    "- **Support**: The number of actual occurrences of the class in the specified dataset.\n",
    "\n",
    "These metrics provide a more granular understanding of where the model excels and where it might be lacking. For instance, a high precision indicates that false positives are low, while a high recall indicates that false negatives are low.\n",
    "\n",
    "In this section, we'll:\n",
    "1. <span style=\"color:red\">**Generate the Classification Report**</span>: Using scikit-learn's `classification_report` function, we'll compute these metrics for our test data predictions.\n",
    "  \n",
    "2. <span style=\"color:red\">**Visualize the Report**</span>: To make the report more readable, we'll convert it into a pandas DataFrame and display it with enhanced formatting.\n",
    "\n",
    "Let's take a detailed look at the classification report for our model:"
   ]
  },
  {
   "cell_type": "code",
   "execution_count": 12,
   "id": "1d6fcc28",
   "metadata": {},
   "outputs": [
    {
     "data": {
      "text/html": [
       "\n",
       "<style>\n",
       "    table {\n",
       "        font-size: 24px;  \n",
       "    }\n",
       "    th {\n",
       "        font-size: 18px; \n",
       "    }\n",
       "</style>\n"
      ],
      "text/plain": [
       "<IPython.core.display.HTML object>"
      ]
     },
     "metadata": {},
     "output_type": "display_data"
    },
    {
     "data": {
      "text/markdown": [
       "### Classification Report"
      ],
      "text/plain": [
       "<IPython.core.display.Markdown object>"
      ]
     },
     "metadata": {},
     "output_type": "display_data"
    },
    {
     "data": {
      "text/html": [
       "<div>\n",
       "<style scoped>\n",
       "    .dataframe tbody tr th:only-of-type {\n",
       "        vertical-align: middle;\n",
       "    }\n",
       "\n",
       "    .dataframe tbody tr th {\n",
       "        vertical-align: top;\n",
       "    }\n",
       "\n",
       "    .dataframe thead th {\n",
       "        text-align: right;\n",
       "    }\n",
       "</style>\n",
       "<table border=\"1\" class=\"dataframe\">\n",
       "  <thead>\n",
       "    <tr style=\"text-align: right;\">\n",
       "      <th></th>\n",
       "      <th>precision</th>\n",
       "      <th>recall</th>\n",
       "      <th>f1-score</th>\n",
       "      <th>support</th>\n",
       "    </tr>\n",
       "  </thead>\n",
       "  <tbody>\n",
       "    <tr>\n",
       "      <th>setosa</th>\n",
       "      <td>1.00</td>\n",
       "      <td>1.00</td>\n",
       "      <td>1.00</td>\n",
       "      <td>10.00</td>\n",
       "    </tr>\n",
       "    <tr>\n",
       "      <th>versicolor</th>\n",
       "      <td>1.00</td>\n",
       "      <td>0.67</td>\n",
       "      <td>0.80</td>\n",
       "      <td>9.00</td>\n",
       "    </tr>\n",
       "    <tr>\n",
       "      <th>virginica</th>\n",
       "      <td>0.79</td>\n",
       "      <td>1.00</td>\n",
       "      <td>0.88</td>\n",
       "      <td>11.00</td>\n",
       "    </tr>\n",
       "    <tr>\n",
       "      <th>accuracy</th>\n",
       "      <td>0.90</td>\n",
       "      <td>0.90</td>\n",
       "      <td>0.90</td>\n",
       "      <td>0.90</td>\n",
       "    </tr>\n",
       "    <tr>\n",
       "      <th>macro avg</th>\n",
       "      <td>0.93</td>\n",
       "      <td>0.89</td>\n",
       "      <td>0.89</td>\n",
       "      <td>30.00</td>\n",
       "    </tr>\n",
       "    <tr>\n",
       "      <th>weighted avg</th>\n",
       "      <td>0.92</td>\n",
       "      <td>0.90</td>\n",
       "      <td>0.90</td>\n",
       "      <td>30.00</td>\n",
       "    </tr>\n",
       "  </tbody>\n",
       "</table>\n",
       "</div>"
      ],
      "text/plain": [
       "              precision  recall  f1-score  support\n",
       "setosa             1.00    1.00      1.00    10.00\n",
       "versicolor         1.00    0.67      0.80     9.00\n",
       "virginica          0.79    1.00      0.88    11.00\n",
       "accuracy           0.90    0.90      0.90     0.90\n",
       "macro avg          0.93    0.89      0.89    30.00\n",
       "weighted avg       0.92    0.90      0.90    30.00"
      ]
     },
     "metadata": {},
     "output_type": "display_data"
    }
   ],
   "source": [
    "# Set the display option for floating point numbers\n",
    "pd.options.display.float_format = \"{:,.2f}\".format\n",
    "\n",
    "# Generate the classification report\n",
    "report = classification_report(y_test, y_pred_classes, target_names=iris.target_names, output_dict=True)\n",
    "\n",
    "# Convert the report dictionary to a DataFrame for better visualization\n",
    "report_df = pd.DataFrame(report).transpose()\n",
    "\n",
    "# Create a custom CSS style for larger font sizes\n",
    "style = \"\"\"\n",
    "<style>\n",
    "    table {\n",
    "        font-size: 24px;  \n",
    "    }\n",
    "    th {\n",
    "        font-size: 18px; \n",
    "    }\n",
    "</style>\n",
    "\"\"\"\n",
    "\n",
    "# Display the custom style\n",
    "display(HTML(style))\n",
    "\n",
    "# Display the report using Markdown\n",
    "display(Markdown(\"### Classification Report\"))\n",
    "display(report_df)"
   ]
  },
  {
   "cell_type": "markdown",
   "id": "7d0eeccc",
   "metadata": {},
   "source": [
    "## 11. Conclusion<a id='ch11'></a>"
   ]
  },
  {
   "cell_type": "markdown",
   "id": "9b37144b",
   "metadata": {},
   "source": [
    "Throughout this analysis, we embarked on a journey to understand the intricacies of the Iris dataset, exploring the relationships between sepal and petal measurements and the species of iris flowers. Our exploration began with building a neural network model, which provided a foundational understanding of the data's structure and the potential predictors.\n",
    "\n",
    "The neural network model, focusing on the four features of the dataset, achieved an impressive accuracy of 90%. This indicates that the model was able to correctly classify 90% of the iris flowers into their respective species based on their sepal and petal measurements.\n",
    "\n",
    "As we delved deeper into the model's performance, we visualized the training process, observing how the model's accuracy and loss evolved over epochs. This visualization provided insights into the model's learning trajectory, highlighting its ability to learn and adapt to the training data.\n",
    "\n",
    "Furthermore, the **confusion matrix** and **classification report** offered a detailed breakdown of the model's performance on each class. The model showcased exceptional prowess in classifying the 'setosa' species, achieving a precision, recall, and f1-score of 1.00. While the model faced some challenges with the 'versicolor' and 'virginica' species, it still achieved commendable results.\n",
    "\n",
    "In conclusion, the sepal and petal measurements play a pivotal role in determining the species of iris flowers. The neural network model's performance underscores the power of deep learning in handling classification tasks, even with a relatively small dataset like the Iris dataset. The progression from data preprocessing to model evaluation emphasizes the importance of each step in the machine learning pipeline and the potential of neural networks in making accurate classifications."
   ]
  },
  {
   "cell_type": "markdown",
   "id": "1b55ed98",
   "metadata": {},
   "source": [
    "### Potential Improvements\n",
    "\n",
    "While our neural network model achieved commendable accuracy on the Iris dataset, there's always room for improvement. Here are some potential avenues to explore for enhancing the model's performance:\n",
    "\n",
    "1. **Hyperparameter Tuning**: We used a basic neural network architecture with a specific set of hyperparameters. Exploring different architectures, activation functions, optimizers, and learning rates could lead to better results. Techniques like grid search or random search can be employed to systematically find the best hyperparameters.\n",
    "\n",
    "2. **Data Augmentation**: Although the Iris dataset is relatively small and well-balanced, data augmentation techniques can be explored. For tabular data like the Iris dataset, techniques such as SMOTE or ADASYN can be used to generate synthetic samples, potentially improving the model's robustness.\n",
    "\n",
    "3. **Regularization**: To prevent overfitting, especially when using deeper neural networks, regularization techniques like dropout or L1/L2 regularization can be incorporated into the model.\n",
    "\n",
    "4. **Ensemble Methods**: Combining predictions from multiple models can often lead to better results. Techniques like bagging or boosting can be explored to see if they enhance the classification accuracy.\n",
    "\n",
    "5. **Feature Engineering**: While the Iris dataset is relatively straightforward, there might be potential in creating new features or transforming existing ones to better capture the underlying patterns in the data.\n",
    "\n",
    "6. **Alternative Models**: While neural networks are powerful, sometimes simpler models or other machine learning algorithms like Random Forests, Gradient Boosting Machines, or Support Vector Machines might yield better or comparable results. It's always worth exploring a range of models to find the best fit for the data.\n",
    "\n",
    "7. **Evaluation Metrics**: While accuracy is a straightforward metric, it might not always capture the nuances of the model's performance, especially if the dataset were imbalanced. Exploring other metrics like the F1-score, ROC-AUC, or precision-recall curves could provide a more comprehensive view of the model's capabilities.\n",
    "\n",
    "By exploring these avenues, we can potentially enhance the model's performance, making it even more robust and accurate in classifying iris flowers."
   ]
  }
 ],
 "metadata": {
  "kernelspec": {
   "display_name": "Python 3 (ipykernel)",
   "language": "python",
   "name": "python3"
  },
  "language_info": {
   "codemirror_mode": {
    "name": "ipython",
    "version": 3
   },
   "file_extension": ".py",
   "mimetype": "text/x-python",
   "name": "python",
   "nbconvert_exporter": "python",
   "pygments_lexer": "ipython3",
   "version": "3.9.12"
  }
 },
 "nbformat": 4,
 "nbformat_minor": 5
}

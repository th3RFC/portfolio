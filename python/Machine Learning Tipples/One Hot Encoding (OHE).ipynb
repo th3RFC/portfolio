{
 "cells": [
  {
   "cell_type": "markdown",
   "id": "be783260",
   "metadata": {},
   "source": [
    "# One Hot Encoding (OHE) 🔥"
   ]
  },
  {
   "attachments": {
    "Capture.PNG": {
     "image/png": "[encoded data removed]"
    }
   },
   "cell_type": "markdown",
   "id": "89cb4492",
   "metadata": {},
   "source": [
    "![Capture.PNG](attachment:Capture.PNG)"
   ]
  },
  {
   "cell_type": "markdown",
   "id": "0fe68e5f",
   "metadata": {},
   "source": [
    "## Table of Contents:\n",
    "\n",
    "* [Introduction](#1)\n",
    "    * [Why not .get_dummies( ) ?](#1.1)\n",
    "* [Importing Data](#2)\n",
    "    * [Dimensions](#2.1)\n",
    "    * [Number of Categorical Variables](#2.2)\n",
    "    * [Filter Categorical Variables](#2.3)\n",
    "    * [Predicted Number of Additional Columns](#2.4)\n",
    "* [One Hot Encoding (OHE)](#3)\n",
    "    * [Actual Number of Additional Columns](#3.1)"
   ]
  },
  {
   "cell_type": "markdown",
   "id": "c4c466ab",
   "metadata": {},
   "source": [
    "## Introduction 🔥 <a class=\"anchor\" id=\"1\"></a>"
   ]
  },
  {
   "cell_type": "markdown",
   "id": "720ea003",
   "metadata": {},
   "source": [
    "Machines love numbers 🔢💘 NOT so fond of text 📝💩\n",
    "\n",
    "A lot of data comes in the form of text data, so data scientists need to be able to convert these features from a text data type to a numerical data type, so your machine learning algorithms don't blow up 💥\n",
    "\n",
    "In this tutorial, we will learn how to One Hot Encode (OHE) categorical variables in a data set. \n",
    "\n",
    "We will take a data set on housing sales data, and we will encode all of the categorical features of this data frame to create dummy variables which will then be added back to the original data frame. In turn, we will also need to drop the original columns that were encoded, as our machine learning algorithms do not like these."
   ]
  },
  {
   "cell_type": "markdown",
   "id": "1ad299af",
   "metadata": {},
   "source": [
    "### Why not .get_dummies( ) ?🔥 <a class=\"anchor\" id=\"1.1\"></a>"
   ]
  },
  {
   "cell_type": "markdown",
   "id": "4412ab96",
   "metadata": {},
   "source": [
    "An alternative approach to encoding categorical variables is to use the **.get_dummies( )** method. Given that we will be creating dummy variables either way, why not use this method, instead? The answer is because .get_dummies( ) is much less efficient than using OHE for larger data sets 🐌 OHE is more efficient as it leverages something called a **sparse matrix** rather than just outputting the entire data frame."
   ]
  },
  {
   "cell_type": "markdown",
   "id": "4bb0ce27",
   "metadata": {},
   "source": [
    "## Importing Data🔥 <a class=\"anchor\" id=\"2\"></a>"
   ]
  },
  {
   "cell_type": "code",
   "execution_count": 1,
   "id": "ea086945",
   "metadata": {},
   "outputs": [
    {
     "data": {
      "text/html": [
       "<div>\n",
       "<style scoped>\n",
       "    .dataframe tbody tr th:only-of-type {\n",
       "        vertical-align: middle;\n",
       "    }\n",
       "\n",
       "    .dataframe tbody tr th {\n",
       "        vertical-align: top;\n",
       "    }\n",
       "\n",
       "    .dataframe thead th {\n",
       "        text-align: right;\n",
       "    }\n",
       "</style>\n",
       "<table border=\"1\" class=\"dataframe\">\n",
       "  <thead>\n",
       "    <tr style=\"text-align: right;\">\n",
       "      <th></th>\n",
       "      <th>1stFlrSF</th>\n",
       "      <th>2ndFlrSF</th>\n",
       "      <th>3SsnPorch</th>\n",
       "      <th>Alley</th>\n",
       "      <th>BedroomAbvGr</th>\n",
       "      <th>BldgType</th>\n",
       "      <th>BsmtCond</th>\n",
       "      <th>BsmtExposure</th>\n",
       "      <th>BsmtFinSF1</th>\n",
       "      <th>BsmtFinSF2</th>\n",
       "    </tr>\n",
       "  </thead>\n",
       "  <tbody>\n",
       "    <tr>\n",
       "      <th>0</th>\n",
       "      <td>856.0</td>\n",
       "      <td>854.0</td>\n",
       "      <td>0.0</td>\n",
       "      <td>None</td>\n",
       "      <td>3</td>\n",
       "      <td>1Fam</td>\n",
       "      <td>TA</td>\n",
       "      <td>No</td>\n",
       "      <td>706.0</td>\n",
       "      <td>0.0</td>\n",
       "    </tr>\n",
       "    <tr>\n",
       "      <th>1</th>\n",
       "      <td>1262.0</td>\n",
       "      <td>0.0</td>\n",
       "      <td>0.0</td>\n",
       "      <td>None</td>\n",
       "      <td>3</td>\n",
       "      <td>1Fam</td>\n",
       "      <td>TA</td>\n",
       "      <td>Gd</td>\n",
       "      <td>978.0</td>\n",
       "      <td>0.0</td>\n",
       "    </tr>\n",
       "    <tr>\n",
       "      <th>2</th>\n",
       "      <td>920.0</td>\n",
       "      <td>866.0</td>\n",
       "      <td>0.0</td>\n",
       "      <td>None</td>\n",
       "      <td>3</td>\n",
       "      <td>1Fam</td>\n",
       "      <td>TA</td>\n",
       "      <td>Mn</td>\n",
       "      <td>486.0</td>\n",
       "      <td>0.0</td>\n",
       "    </tr>\n",
       "    <tr>\n",
       "      <th>3</th>\n",
       "      <td>961.0</td>\n",
       "      <td>756.0</td>\n",
       "      <td>0.0</td>\n",
       "      <td>None</td>\n",
       "      <td>3</td>\n",
       "      <td>1Fam</td>\n",
       "      <td>Gd</td>\n",
       "      <td>No</td>\n",
       "      <td>216.0</td>\n",
       "      <td>0.0</td>\n",
       "    </tr>\n",
       "    <tr>\n",
       "      <th>4</th>\n",
       "      <td>1145.0</td>\n",
       "      <td>1053.0</td>\n",
       "      <td>0.0</td>\n",
       "      <td>None</td>\n",
       "      <td>4</td>\n",
       "      <td>1Fam</td>\n",
       "      <td>TA</td>\n",
       "      <td>Av</td>\n",
       "      <td>655.0</td>\n",
       "      <td>0.0</td>\n",
       "    </tr>\n",
       "  </tbody>\n",
       "</table>\n",
       "</div>"
      ],
      "text/plain": [
       "   1stFlrSF  2ndFlrSF  3SsnPorch Alley  BedroomAbvGr BldgType BsmtCond  \\\n",
       "0     856.0     854.0        0.0  None             3     1Fam       TA   \n",
       "1    1262.0       0.0        0.0  None             3     1Fam       TA   \n",
       "2     920.0     866.0        0.0  None             3     1Fam       TA   \n",
       "3     961.0     756.0        0.0  None             3     1Fam       Gd   \n",
       "4    1145.0    1053.0        0.0  None             4     1Fam       TA   \n",
       "\n",
       "  BsmtExposure  BsmtFinSF1  BsmtFinSF2  \n",
       "0           No       706.0         0.0  \n",
       "1           Gd       978.0         0.0  \n",
       "2           Mn       486.0         0.0  \n",
       "3           No       216.0         0.0  \n",
       "4           Av       655.0         0.0  "
      ]
     },
     "execution_count": 1,
     "metadata": {},
     "output_type": "execute_result"
    }
   ],
   "source": [
    "import pandas as pd\n",
    "import numpy as np\n",
    "import warnings\n",
    "warnings.filterwarnings(\"ignore\")\n",
    "\n",
    "# Import data\n",
    "data = pd.read_csv('Ames_Housing_Sales.csv')\n",
    "\n",
    "# Display subset of data frame\n",
    "data.iloc[:,:10].head()"
   ]
  },
  {
   "cell_type": "markdown",
   "id": "6f7ef8d5",
   "metadata": {},
   "source": [
    "### Dimensions 🔥 <a class=\"anchor\" id=\"2.1\"></a>"
   ]
  },
  {
   "cell_type": "markdown",
   "id": "f81d6ac9",
   "metadata": {},
   "source": [
    "We can see the dimension of the data frame using **.shape**, and we find that our data frame has 1379 rows and 80 columns."
   ]
  },
  {
   "cell_type": "code",
   "execution_count": 2,
   "id": "6eebd285",
   "metadata": {},
   "outputs": [
    {
     "data": {
      "text/plain": [
       "(1379, 80)"
      ]
     },
     "execution_count": 2,
     "metadata": {},
     "output_type": "execute_result"
    }
   ],
   "source": [
    "data.shape"
   ]
  },
  {
   "cell_type": "markdown",
   "id": "996ff78e",
   "metadata": {},
   "source": [
    "### Number of Categorical Variables 🔥 <a class=\"anchor\" id=\"2.2\"></a>"
   ]
  },
  {
   "cell_type": "markdown",
   "id": "6d57d981",
   "metadata": {},
   "source": [
    "Using the **.value_counts( )** method, we can count the number of each type of variable in our data frame 🧮 We see that we have $43$ columns of data type *object* (string variables)."
   ]
  },
  {
   "cell_type": "code",
   "execution_count": 3,
   "id": "94cf7082",
   "metadata": {},
   "outputs": [
    {
     "data": {
      "text/plain": [
       "object     43\n",
       "float64    21\n",
       "int64      16\n",
       "dtype: int64"
      ]
     },
     "execution_count": 3,
     "metadata": {},
     "output_type": "execute_result"
    }
   ],
   "source": [
    "data.dtypes.value_counts()"
   ]
  },
  {
   "cell_type": "markdown",
   "id": "94b30b9f",
   "metadata": {},
   "source": [
    "### Filter Categorical Variables 🔥 <a class=\"anchor\" id=\"2.3\"></a>"
   ]
  },
  {
   "cell_type": "markdown",
   "id": "7d6b09ff",
   "metadata": {},
   "source": [
    "We will now create a variable, **mask**, that will enable us to filter out non-categorical variables from our data frame. **mask** will take a *boolean* value for each feature depending on whether the feature is a categorical variable or not."
   ]
  },
  {
   "cell_type": "code",
   "execution_count": 4,
   "id": "3bc30e31",
   "metadata": {},
   "outputs": [
    {
     "data": {
      "text/plain": [
       "1stFlrSF        False\n",
       "2ndFlrSF        False\n",
       "3SsnPorch       False\n",
       "Alley            True\n",
       "BedroomAbvGr    False\n",
       "                ...  \n",
       "WoodDeckSF      False\n",
       "YearBuilt       False\n",
       "YearRemodAdd    False\n",
       "YrSold          False\n",
       "SalePrice       False\n",
       "Length: 80, dtype: bool"
      ]
     },
     "execution_count": 4,
     "metadata": {},
     "output_type": "execute_result"
    }
   ],
   "source": [
    "# Create mask variable\n",
    "mask = data.dtypes == np.object\n",
    "\n",
    "# Display mask\n",
    "mask"
   ]
  },
  {
   "cell_type": "markdown",
   "id": "02b7b4dc",
   "metadata": {},
   "source": [
    "Now, we select only features where **mask** $== \\text{True}$."
   ]
  },
  {
   "cell_type": "code",
   "execution_count": 5,
   "id": "8af725cf",
   "metadata": {},
   "outputs": [],
   "source": [
    "# Select only categorical variables\n",
    "categorical_cols = data.columns[mask]"
   ]
  },
  {
   "cell_type": "markdown",
   "id": "15d2edb0",
   "metadata": {},
   "source": [
    "### Predicted Number of Additional Columns 🔥 <a class=\"anchor\" id=\"2.4\"></a>"
   ]
  },
  {
   "cell_type": "markdown",
   "id": "978f57ad",
   "metadata": {},
   "source": [
    "One Hot Encoding can drastically increase the number of features in our data frame 📈 This runs the risk of creating features that are **highly correlated** with one another. Therefore, it is sensible to determine how many additional features ($n$) would be created after the OHE process.\n",
    "\n",
    "Recall, however, that the number of OHE-features in our final data frame will be $n-1$, where $n$ is the total number of feature labels. Suppose, for example, that we had one categorical feature called **animal** that labelled observations as either a dog 🐶 cat 🐱 or pig 🐷 then the number of labels is $n = 3$. We would end up with $n-1=2$ additional features (dummy variables) after encoding. \n",
    "\n",
    "This is done because we wish to drop one of the levels of each categorical variable that we encode to avoid the **Dummy Variable Trap** that is a result of **perfect multicollinearity** 🚩 In short, this is a situation where the value taken in one column is exactly determined by the value taken in one or more other columns."
   ]
  },
  {
   "cell_type": "markdown",
   "id": "53a2373d",
   "metadata": {},
   "source": [
    "To determine how many extra columns would be created initially, we use a **lambda** function. For each feature in our categorical variable data frame, the lambda function will return the number of unique values for that feature."
   ]
  },
  {
   "cell_type": "code",
   "execution_count": 6,
   "id": "15963e0c",
   "metadata": {},
   "outputs": [
    {
     "data": {
      "text/plain": [
       "Neighborhood    25\n",
       "Exterior2nd     16\n",
       "Exterior1st     14\n",
       "Condition1       9\n",
       "SaleType         9\n",
       "RoofMatl         8\n",
       "HouseStyle       8\n",
       "Condition2       8\n",
       "Functional       7\n",
       "BsmtFinType2     7\n",
       "dtype: int64"
      ]
     },
     "execution_count": 6,
     "metadata": {},
     "output_type": "execute_result"
    }
   ],
   "source": [
    "# Determine how many extra columns would be created\n",
    "num_ohe_cols = (data[categorical_cols]\n",
    "                .apply(lambda x: x.nunique())\n",
    "                .sort_values(ascending=False))\n",
    "\n",
    "# Display data frame\n",
    "num_ohe_cols.head(10)"
   ]
  },
  {
   "cell_type": "markdown",
   "id": "f19415bf",
   "metadata": {},
   "source": [
    "So, for example, the feature **Neighborhood** has 25 unique values, whereas **SaleType** has 9."
   ]
  },
  {
   "cell_type": "markdown",
   "id": "ac1565c1",
   "metadata": {},
   "source": [
    "We will not be interested in encoding features with only one value, so will remove these from the data frame ❌ On this occasion there are no features with only one value, but it is a useful step to have."
   ]
  },
  {
   "cell_type": "code",
   "execution_count": 7,
   "id": "d484a9ad",
   "metadata": {},
   "outputs": [],
   "source": [
    "# No need to encode if there is only one value\n",
    "small_num_ohe_cols = num_ohe_cols.loc[num_ohe_cols>1]"
   ]
  },
  {
   "cell_type": "markdown",
   "id": "6219670a",
   "metadata": {},
   "source": [
    "Now, we wish to reduce each value count by one (as there will be $n-1$ new features after encoding, and finally, we want to sum the values for each feature to discern how many additional features will be created."
   ]
  },
  {
   "cell_type": "code",
   "execution_count": 8,
   "id": "ea6b4120",
   "metadata": {},
   "outputs": [
    {
     "data": {
      "text/plain": [
       "215"
      ]
     },
     "execution_count": 8,
     "metadata": {},
     "output_type": "execute_result"
    }
   ],
   "source": [
    "# Subtract 1 value from each feature\n",
    "small_num_ohe_cols -= 1\n",
    "\n",
    "# Sum of new features\n",
    "small_num_ohe_cols.sum()"
   ]
  },
  {
   "cell_type": "markdown",
   "id": "e3f2c47e",
   "metadata": {},
   "source": [
    "This returns a value of $215$ meaning that $215$ additional features would be created by the encoding process."
   ]
  },
  {
   "cell_type": "markdown",
   "id": "640748eb",
   "metadata": {},
   "source": [
    "## One Hot Encoding (OHE) 🔥 <a class=\"anchor\" id=\"3\"></a>"
   ]
  },
  {
   "cell_type": "markdown",
   "id": "844273e4",
   "metadata": {},
   "source": [
    "After importing **OneHotEncoder**, we will make a copy of our data frame to calculate the difference in columns before and after encoding.\n",
    "\n",
    "Note that a OneHotEncoder can also be initialised using the argument **drop='first'**. This will drop the first value from the categorical features."
   ]
  },
  {
   "cell_type": "code",
   "execution_count": 9,
   "id": "eb90e394",
   "metadata": {},
   "outputs": [],
   "source": [
    "from sklearn.preprocessing import OneHotEncoder, LabelEncoder\n",
    "\n",
    "# Copy of the data\n",
    "data_ohe = data.copy()\n",
    "\n",
    "# The encoders\n",
    "ohe = OneHotEncoder()"
   ]
  },
  {
   "cell_type": "markdown",
   "id": "181587ad",
   "metadata": {},
   "source": [
    "We are going to create a **for loop** 🔁 This loop will:\n",
    "\n",
    "1. Loop through each categorical feature\n",
    "2. One hot encode the data to return a sparse arra\n",
    "3. Remove the original feature variable from the data frame\n",
    "4. Get names of all unique values in column so we can identify later\n",
    "5. Create column names for each OHE column by value\n",
    "6. Create new data frame\n",
    "7. Append new data frame to data frame"
   ]
  },
  {
   "cell_type": "code",
   "execution_count": 10,
   "id": "340b6c9f",
   "metadata": {},
   "outputs": [],
   "source": [
    "# (1) - Loop through categorical variables\n",
    "for col in num_ohe_cols.index:\n",
    "    \n",
    "    # (2) - OHE data\n",
    "    new_dat = ohe.fit_transform(data_ohe[[col]])\n",
    "    \n",
    "    # (3) - Remove original column\n",
    "    data_ohe = data_ohe.drop(col, axis=1)\n",
    "    \n",
    "     # (4) - Get unique value names\n",
    "    cats = ohe.categories_\n",
    "    \n",
    "    # (5) - Create column names\n",
    "    new_cols = ['_'.join([col,cat]) for cat in cats[0]]\n",
    "    \n",
    "    # (6) - Create new df\n",
    "    new_df = pd.DataFrame(new_dat.toarray(),columns=new_cols)\n",
    "    \n",
    "    # (7) - Append df\n",
    "    data_ohe = pd.concat([data_ohe, new_df], axis =1)"
   ]
  },
  {
   "cell_type": "markdown",
   "id": "b2dc62f5",
   "metadata": {},
   "source": [
    "We now wish ascertain how many additional columns were created by encoding. We achieve this using **.shape[1]** which will return the number of columns of both data frames, and subtracting the number of columns in our original data frame from the number of columns in our encoded data frame."
   ]
  },
  {
   "cell_type": "markdown",
   "id": "ce566d72",
   "metadata": {},
   "source": [
    "### Actual Number of Additional Columns 🔥 <a class=\"anchor\" id=\"3.1\"></a>"
   ]
  },
  {
   "cell_type": "code",
   "execution_count": 11,
   "id": "6cdc24b1",
   "metadata": {},
   "outputs": [
    {
     "data": {
      "text/plain": [
       "215"
      ]
     },
     "execution_count": 11,
     "metadata": {},
     "output_type": "execute_result"
    }
   ],
   "source": [
    "# Column difference is as calculated above\n",
    "data_ohe.shape[1] - data.shape[1]"
   ]
  },
  {
   "cell_type": "markdown",
   "id": "4b8657e4",
   "metadata": {},
   "source": [
    "We have $215$ new columns, which is great! It aligns with our prior calculation 💪🤓"
   ]
  }
 ],
 "metadata": {
  "kernelspec": {
   "display_name": "Python 3 (ipykernel)",
   "language": "python",
   "name": "python3"
  },
  "language_info": {
   "codemirror_mode": {
    "name": "ipython",
    "version": 3
   },
   "file_extension": ".py",
   "mimetype": "text/x-python",
   "name": "python",
   "nbconvert_exporter": "python",
   "pygments_lexer": "ipython3",
   "version": "3.9.12"
  }
 },
 "nbformat": 4,
 "nbformat_minor": 5
}

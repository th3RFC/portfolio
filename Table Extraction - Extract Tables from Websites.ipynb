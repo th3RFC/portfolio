{
 "cells": [
  {
   "attachments": {},
   "cell_type": "markdown",
   "id": "cb1d3309",
   "metadata": {},
   "source": [
    "## Table Extraction - Extract Tables from Websites"
   ]
  },
  {
   "attachments": {},
   "cell_type": "markdown",
   "id": "b2b0a93f",
   "metadata": {},
   "source": [
    "### Extract Tables from Wikipedia"
   ]
  },
  {
   "attachments": {},
   "cell_type": "markdown",
   "id": "ff5b1aa0",
   "metadata": {},
   "source": [
    "In this notebook, we extract a list of tables relating to *The Simpsons* & *The Office& TV shows from their respective **Wikipedia** sites."
   ]
  },
  {
   "attachments": {},
   "cell_type": "markdown",
   "id": "1123b7cb",
   "metadata": {},
   "source": [
    "### The Simpsons"
   ]
  },
  {
   "cell_type": "code",
   "execution_count": 1,
   "id": "32e11b03",
   "metadata": {},
   "outputs": [],
   "source": [
    "# Import pandas\n",
    "import pandas as pd"
   ]
  },
  {
   "cell_type": "code",
   "execution_count": 2,
   "id": "a8c1c150",
   "metadata": {},
   "outputs": [],
   "source": [
    "# Import the tables using the read_html method\n",
    "simpsons = pd.read_html(\"https://en.wikipedia.org/wiki/List_of_The_Simpsons_episodes_(seasons_1%E2%80%9320)\")"
   ]
  },
  {
   "attachments": {},
   "cell_type": "markdown",
   "id": "28959746",
   "metadata": {},
   "source": [
    "**Question:** How many tables do we have?"
   ]
  },
  {
   "cell_type": "code",
   "execution_count": 3,
   "id": "14a140de",
   "metadata": {},
   "outputs": [
    {
     "data": {
      "text/plain": [
       "23"
      ]
     },
     "execution_count": 3,
     "metadata": {},
     "output_type": "execute_result"
    }
   ],
   "source": [
    "len(simpsons)"
   ]
  },
  {
   "cell_type": "code",
   "execution_count": 4,
   "id": "eba53e25",
   "metadata": {},
   "outputs": [
    {
     "data": {
      "text/html": [
       "<div>\n",
       "<style scoped>\n",
       "    .dataframe tbody tr th:only-of-type {\n",
       "        vertical-align: middle;\n",
       "    }\n",
       "\n",
       "    .dataframe tbody tr th {\n",
       "        vertical-align: top;\n",
       "    }\n",
       "\n",
       "    .dataframe thead tr th {\n",
       "        text-align: left;\n",
       "    }\n",
       "</style>\n",
       "<table border=\"1\" class=\"dataframe\">\n",
       "  <thead>\n",
       "    <tr>\n",
       "      <th></th>\n",
       "      <th>Season</th>\n",
       "      <th colspan=\"2\" halign=\"left\">Episodes</th>\n",
       "      <th colspan=\"2\" halign=\"left\">Originally aired</th>\n",
       "      <th>Households / viewers</th>\n",
       "      <th>Rank</th>\n",
       "      <th>Rating</th>\n",
       "    </tr>\n",
       "    <tr>\n",
       "      <th></th>\n",
       "      <th>Season</th>\n",
       "      <th>Episodes</th>\n",
       "      <th>Episodes.1</th>\n",
       "      <th>First aired</th>\n",
       "      <th>Last aired</th>\n",
       "      <th>Households / viewers</th>\n",
       "      <th>Rank</th>\n",
       "      <th>Rating</th>\n",
       "    </tr>\n",
       "  </thead>\n",
       "  <tbody>\n",
       "    <tr>\n",
       "      <th>0</th>\n",
       "      <td>1</td>\n",
       "      <td>13</td>\n",
       "      <td>13</td>\n",
       "      <td>December 17, 1989</td>\n",
       "      <td>May 13, 1990</td>\n",
       "      <td>13.4m h.[n1][12]</td>\n",
       "      <td>30</td>\n",
       "      <td>14.5</td>\n",
       "    </tr>\n",
       "    <tr>\n",
       "      <th>1</th>\n",
       "      <td>2</td>\n",
       "      <td>22</td>\n",
       "      <td>22</td>\n",
       "      <td>October 11, 1990</td>\n",
       "      <td>July 11, 1991</td>\n",
       "      <td>12.2m h.[n1][n2]</td>\n",
       "      <td>38[13]</td>\n",
       "      <td>8.0</td>\n",
       "    </tr>\n",
       "    <tr>\n",
       "      <th>2</th>\n",
       "      <td>3</td>\n",
       "      <td>24</td>\n",
       "      <td>24</td>\n",
       "      <td>September 19, 1991</td>\n",
       "      <td>August 27, 1992</td>\n",
       "      <td>12.0m h.[n1][n3]</td>\n",
       "      <td>33[14]</td>\n",
       "      <td>—</td>\n",
       "    </tr>\n",
       "    <tr>\n",
       "      <th>3</th>\n",
       "      <td>4</td>\n",
       "      <td>22</td>\n",
       "      <td>22</td>\n",
       "      <td>September 24, 1992</td>\n",
       "      <td>May 13, 1993</td>\n",
       "      <td>12.1m h.[n1][15]</td>\n",
       "      <td>30</td>\n",
       "      <td>13.0</td>\n",
       "    </tr>\n",
       "    <tr>\n",
       "      <th>4</th>\n",
       "      <td>5</td>\n",
       "      <td>22</td>\n",
       "      <td>22</td>\n",
       "      <td>September 30, 1993</td>\n",
       "      <td>May 19, 1994</td>\n",
       "      <td>10.5m h.[n1][n4]</td>\n",
       "      <td>53[16]</td>\n",
       "      <td>—</td>\n",
       "    </tr>\n",
       "    <tr>\n",
       "      <th>5</th>\n",
       "      <td>6</td>\n",
       "      <td>25</td>\n",
       "      <td>25</td>\n",
       "      <td>September 4, 1994</td>\n",
       "      <td>May 21, 1995</td>\n",
       "      <td>9.0m h.[n1][17]</td>\n",
       "      <td>67[17]</td>\n",
       "      <td>—</td>\n",
       "    </tr>\n",
       "    <tr>\n",
       "      <th>6</th>\n",
       "      <td>7</td>\n",
       "      <td>25</td>\n",
       "      <td>25</td>\n",
       "      <td>September 17, 1995</td>\n",
       "      <td>May 19, 1996</td>\n",
       "      <td>8.0m h.[n1][18]</td>\n",
       "      <td>75[18]</td>\n",
       "      <td>—</td>\n",
       "    </tr>\n",
       "    <tr>\n",
       "      <th>7</th>\n",
       "      <td>8</td>\n",
       "      <td>25</td>\n",
       "      <td>25</td>\n",
       "      <td>October 27, 1996</td>\n",
       "      <td>May 18, 1997</td>\n",
       "      <td>8.6m h.[19]</td>\n",
       "      <td>53[19]</td>\n",
       "      <td>—</td>\n",
       "    </tr>\n",
       "    <tr>\n",
       "      <th>8</th>\n",
       "      <td>9</td>\n",
       "      <td>25</td>\n",
       "      <td>25</td>\n",
       "      <td>September 21, 1997</td>\n",
       "      <td>May 17, 1998</td>\n",
       "      <td>9.1m h.[20]</td>\n",
       "      <td>30</td>\n",
       "      <td>9.2</td>\n",
       "    </tr>\n",
       "    <tr>\n",
       "      <th>9</th>\n",
       "      <td>10</td>\n",
       "      <td>23</td>\n",
       "      <td>23</td>\n",
       "      <td>August 23, 1998</td>\n",
       "      <td>May 16, 1999</td>\n",
       "      <td>7.9m h.[21]</td>\n",
       "      <td>46[21]</td>\n",
       "      <td>—</td>\n",
       "    </tr>\n",
       "  </tbody>\n",
       "</table>\n",
       "</div>"
      ],
      "text/plain": [
       "  Season Episodes               Originally aired                   \\\n",
       "  Season Episodes Episodes.1         First aired       Last aired   \n",
       "0      1       13         13   December 17, 1989     May 13, 1990   \n",
       "1      2       22         22    October 11, 1990    July 11, 1991   \n",
       "2      3       24         24  September 19, 1991  August 27, 1992   \n",
       "3      4       22         22  September 24, 1992     May 13, 1993   \n",
       "4      5       22         22  September 30, 1993     May 19, 1994   \n",
       "5      6       25         25   September 4, 1994     May 21, 1995   \n",
       "6      7       25         25  September 17, 1995     May 19, 1996   \n",
       "7      8       25         25    October 27, 1996     May 18, 1997   \n",
       "8      9       25         25  September 21, 1997     May 17, 1998   \n",
       "9     10       23         23     August 23, 1998     May 16, 1999   \n",
       "\n",
       "  Households / viewers    Rank Rating  \n",
       "  Households / viewers    Rank Rating  \n",
       "0     13.4m h.[n1][12]      30   14.5  \n",
       "1     12.2m h.[n1][n2]  38[13]    8.0  \n",
       "2     12.0m h.[n1][n3]  33[14]      —  \n",
       "3     12.1m h.[n1][15]      30   13.0  \n",
       "4     10.5m h.[n1][n4]  53[16]      —  \n",
       "5      9.0m h.[n1][17]  67[17]      —  \n",
       "6      8.0m h.[n1][18]  75[18]      —  \n",
       "7          8.6m h.[19]  53[19]      —  \n",
       "8          9.1m h.[20]      30    9.2  \n",
       "9          7.9m h.[21]  46[21]      —  "
      ]
     },
     "execution_count": 4,
     "metadata": {},
     "output_type": "execute_result"
    }
   ],
   "source": [
    "# Display the first 10 tables\n",
    "simpsons[0].head(10)"
   ]
  },
  {
   "attachments": {},
   "cell_type": "markdown",
   "id": "a33b96ec",
   "metadata": {},
   "source": [
    "### The Office (US version)"
   ]
  },
  {
   "attachments": {},
   "cell_type": "markdown",
   "id": "c44dc653",
   "metadata": {},
   "source": [
    "Let us now repeat this for *The Office* to show how easy it is to do!"
   ]
  },
  {
   "cell_type": "code",
   "execution_count": 5,
   "id": "13c82f1a",
   "metadata": {},
   "outputs": [],
   "source": [
    "# Import the tables using the read_html method\n",
    "office = pd.read_html(\"https://en.wikipedia.org/wiki/List_of_The_Office_(American_TV_series)_episodes\")"
   ]
  },
  {
   "cell_type": "code",
   "execution_count": 6,
   "id": "f66cce9b",
   "metadata": {},
   "outputs": [
    {
     "data": {
      "text/plain": [
       "27"
      ]
     },
     "execution_count": 6,
     "metadata": {},
     "output_type": "execute_result"
    }
   ],
   "source": [
    "len(office)"
   ]
  },
  {
   "attachments": {},
   "cell_type": "markdown",
   "id": "3f2528ed",
   "metadata": {},
   "source": [
    "Therefore, there are 27 tables.\n",
    "\n",
    "The table indexed '1' records the details of the episodes in the first season:"
   ]
  },
  {
   "cell_type": "code",
   "execution_count": 7,
   "id": "7fde90e6",
   "metadata": {},
   "outputs": [
    {
     "data": {
      "text/html": [
       "<div>\n",
       "<style scoped>\n",
       "    .dataframe tbody tr th:only-of-type {\n",
       "        vertical-align: middle;\n",
       "    }\n",
       "\n",
       "    .dataframe tbody tr th {\n",
       "        vertical-align: top;\n",
       "    }\n",
       "\n",
       "    .dataframe thead th {\n",
       "        text-align: right;\n",
       "    }\n",
       "</style>\n",
       "<table border=\"1\" class=\"dataframe\">\n",
       "  <thead>\n",
       "    <tr style=\"text-align: right;\">\n",
       "      <th></th>\n",
       "      <th>No. overall</th>\n",
       "      <th>No. in season</th>\n",
       "      <th>Title</th>\n",
       "      <th>Directed by</th>\n",
       "      <th>Written by</th>\n",
       "      <th>Original air date [16]</th>\n",
       "      <th>Prod. code [16]</th>\n",
       "      <th>U.S. viewers (millions)</th>\n",
       "    </tr>\n",
       "  </thead>\n",
       "  <tbody>\n",
       "    <tr>\n",
       "      <th>0</th>\n",
       "      <td>1</td>\n",
       "      <td>1</td>\n",
       "      <td>\"Pilot\"</td>\n",
       "      <td>Ken Kwapis</td>\n",
       "      <td>Ricky Gervais &amp; Stephen Merchant and Greg Daniels</td>\n",
       "      <td>March 24, 2005</td>\n",
       "      <td>1001</td>\n",
       "      <td>11.20[17]</td>\n",
       "    </tr>\n",
       "    <tr>\n",
       "      <th>1</th>\n",
       "      <td>2</td>\n",
       "      <td>2</td>\n",
       "      <td>\"Diversity Day\"</td>\n",
       "      <td>Ken Kwapis</td>\n",
       "      <td>B. J. Novak</td>\n",
       "      <td>March 29, 2005</td>\n",
       "      <td>1002</td>\n",
       "      <td>6.00[18]</td>\n",
       "    </tr>\n",
       "    <tr>\n",
       "      <th>2</th>\n",
       "      <td>3</td>\n",
       "      <td>3</td>\n",
       "      <td>\"Health Care\"</td>\n",
       "      <td>Ken Whittingham</td>\n",
       "      <td>Paul Lieberstein</td>\n",
       "      <td>April 5, 2005</td>\n",
       "      <td>1006</td>\n",
       "      <td>5.80[19]</td>\n",
       "    </tr>\n",
       "    <tr>\n",
       "      <th>3</th>\n",
       "      <td>4</td>\n",
       "      <td>4</td>\n",
       "      <td>\"The Alliance\"</td>\n",
       "      <td>Bryan Gordon</td>\n",
       "      <td>Michael Schur</td>\n",
       "      <td>April 12, 2005</td>\n",
       "      <td>1004</td>\n",
       "      <td>5.40[20]</td>\n",
       "    </tr>\n",
       "    <tr>\n",
       "      <th>4</th>\n",
       "      <td>5</td>\n",
       "      <td>5</td>\n",
       "      <td>\"Basketball\"</td>\n",
       "      <td>Greg Daniels</td>\n",
       "      <td>Greg Daniels</td>\n",
       "      <td>April 19, 2005</td>\n",
       "      <td>1005</td>\n",
       "      <td>5.00[21]</td>\n",
       "    </tr>\n",
       "    <tr>\n",
       "      <th>5</th>\n",
       "      <td>6</td>\n",
       "      <td>6</td>\n",
       "      <td>\"Hot Girl\"</td>\n",
       "      <td>Amy Heckerling</td>\n",
       "      <td>Mindy Kaling</td>\n",
       "      <td>April 26, 2005</td>\n",
       "      <td>1003</td>\n",
       "      <td>4.80[17]</td>\n",
       "    </tr>\n",
       "  </tbody>\n",
       "</table>\n",
       "</div>"
      ],
      "text/plain": [
       "   No. overall  No. in season            Title      Directed by  \\\n",
       "0            1              1          \"Pilot\"       Ken Kwapis   \n",
       "1            2              2  \"Diversity Day\"       Ken Kwapis   \n",
       "2            3              3    \"Health Care\"  Ken Whittingham   \n",
       "3            4              4   \"The Alliance\"     Bryan Gordon   \n",
       "4            5              5     \"Basketball\"     Greg Daniels   \n",
       "5            6              6       \"Hot Girl\"   Amy Heckerling   \n",
       "\n",
       "                                          Written by Original air date [16]  \\\n",
       "0  Ricky Gervais & Stephen Merchant and Greg Daniels         March 24, 2005   \n",
       "1                                        B. J. Novak         March 29, 2005   \n",
       "2                                   Paul Lieberstein          April 5, 2005   \n",
       "3                                      Michael Schur         April 12, 2005   \n",
       "4                                       Greg Daniels         April 19, 2005   \n",
       "5                                       Mindy Kaling         April 26, 2005   \n",
       "\n",
       "   Prod. code [16] U.S. viewers (millions)  \n",
       "0             1001               11.20[17]  \n",
       "1             1002                6.00[18]  \n",
       "2             1006                5.80[19]  \n",
       "3             1004                5.40[20]  \n",
       "4             1005                5.00[21]  \n",
       "5             1003                4.80[17]  "
      ]
     },
     "execution_count": 7,
     "metadata": {},
     "output_type": "execute_result"
    }
   ],
   "source": [
    "office[1]"
   ]
  },
  {
   "attachments": {},
   "cell_type": "markdown",
   "id": "c4606a96",
   "metadata": {},
   "source": [
    "Finally, we can extract the information on the first episode as shown below:"
   ]
  },
  {
   "cell_type": "code",
   "execution_count": 8,
   "id": "1c308c88",
   "metadata": {},
   "outputs": [
    {
     "data": {
      "text/html": [
       "<div>\n",
       "<style scoped>\n",
       "    .dataframe tbody tr th:only-of-type {\n",
       "        vertical-align: middle;\n",
       "    }\n",
       "\n",
       "    .dataframe tbody tr th {\n",
       "        vertical-align: top;\n",
       "    }\n",
       "\n",
       "    .dataframe thead th {\n",
       "        text-align: right;\n",
       "    }\n",
       "</style>\n",
       "<table border=\"1\" class=\"dataframe\">\n",
       "  <thead>\n",
       "    <tr style=\"text-align: right;\">\n",
       "      <th></th>\n",
       "      <th>0</th>\n",
       "    </tr>\n",
       "  </thead>\n",
       "  <tbody>\n",
       "    <tr>\n",
       "      <th>No. overall</th>\n",
       "      <td>1</td>\n",
       "    </tr>\n",
       "    <tr>\n",
       "      <th>No. in season</th>\n",
       "      <td>1</td>\n",
       "    </tr>\n",
       "    <tr>\n",
       "      <th>Title</th>\n",
       "      <td>\"Pilot\"</td>\n",
       "    </tr>\n",
       "    <tr>\n",
       "      <th>Directed by</th>\n",
       "      <td>Ken Kwapis</td>\n",
       "    </tr>\n",
       "    <tr>\n",
       "      <th>Written by</th>\n",
       "      <td>Ricky Gervais &amp; Stephen Merchant and Greg Daniels</td>\n",
       "    </tr>\n",
       "    <tr>\n",
       "      <th>Original air date [16]</th>\n",
       "      <td>March 24, 2005</td>\n",
       "    </tr>\n",
       "    <tr>\n",
       "      <th>Prod. code [16]</th>\n",
       "      <td>1001</td>\n",
       "    </tr>\n",
       "    <tr>\n",
       "      <th>U.S. viewers (millions)</th>\n",
       "      <td>11.20[17]</td>\n",
       "    </tr>\n",
       "  </tbody>\n",
       "</table>\n",
       "</div>"
      ],
      "text/plain": [
       "                                                                         0\n",
       "No. overall                                                              1\n",
       "No. in season                                                            1\n",
       "Title                                                              \"Pilot\"\n",
       "Directed by                                                     Ken Kwapis\n",
       "Written by               Ricky Gervais & Stephen Merchant and Greg Daniels\n",
       "Original air date [16]                                      March 24, 2005\n",
       "Prod. code [16]                                                       1001\n",
       "U.S. viewers (millions)                                          11.20[17]"
      ]
     },
     "execution_count": 8,
     "metadata": {},
     "output_type": "execute_result"
    }
   ],
   "source": [
    "office[1].iloc[0].to_frame()"
   ]
  }
 ],
 "metadata": {
  "kernelspec": {
   "display_name": "Python 3",
   "language": "python",
   "name": "python3"
  },
  "language_info": {
   "codemirror_mode": {
    "name": "ipython",
    "version": 3
   },
   "file_extension": ".py",
   "mimetype": "text/x-python",
   "name": "python",
   "nbconvert_exporter": "python",
   "pygments_lexer": "ipython3",
   "version": "3.11.0"
  },
  "vscode": {
   "interpreter": {
    "hash": "c261aea317cc0286b3b3261fbba9abdec21eaa57589985bb7a274bf54d6cc0a7"
   }
  }
 },
 "nbformat": 4,
 "nbformat_minor": 5
}

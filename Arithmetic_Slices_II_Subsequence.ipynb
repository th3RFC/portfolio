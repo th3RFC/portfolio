{
  "nbformat": 4,
  "nbformat_minor": 0,
  "metadata": {
    "colab": {
      "provenance": [],
      "authorship_tag": "ABX9TyNPy7Sqj5eb7A8xjdla5auy",
      "include_colab_link": true
    },
    "kernelspec": {
      "name": "python3",
      "display_name": "Python 3"
    },
    "language_info": {
      "name": "python"
    }
  },
  "cells": [
    {
      "cell_type": "markdown",
      "metadata": {
        "id": "view-in-github",
        "colab_type": "text"
      },
      "source": [
        "<a href=\"https://colab.research.google.com/github/th3RFC/portfolio/blob/main/Arithmetic_Slices_II_Subsequence.ipynb\" target=\"_parent\"><img src=\"https://colab.research.google.com/assets/colab-badge.svg\" alt=\"Open In Colab\"/></a>"
      ]
    },
    {
      "cell_type": "markdown",
      "source": [
        "Solving this problem requires understanding dynamic programming and hash tables (maps). Here's the general idea of how you might approach it:\n",
        "\n",
        "1. **Dynamic Programming State Definition**:\n",
        "    - Each element `nums[i]` can be the end of some arithmetic subsequences with a common difference `d`. You need to keep track of the number of such subsequences that end at each element.\n",
        "\n",
        "2. **Hash Tables (Maps)**:\n",
        "    - For each element `nums[i]`, use a hash table to map the common difference `d` to the number of subsequences that end at `nums[i]` with that difference.\n",
        "\n",
        "3. **Building the Solution**:\n",
        "    - Iterate through the array. For each `nums[i]`, iterate through all previous elements `nums[j]` where `j < i`.\n",
        "    - Calculate the difference `d = nums[i] - nums[j]`.\n",
        "    - Look up in `nums[j]`'s map to see how many subsequences end at `nums[j]` with difference `d`. This number is the number of subsequences that can be extended by `nums[i]`.\n",
        "    - If `nums[i]` can extend these subsequences, increment the count of subsequences ending at `nums[i]` with difference `d` by the count found in `nums[j]`'s map.\n",
        "    - Also, every pair of elements can start a new subsequence, so increment the count for the difference `d` in `nums[i]`'s map by 1 to account for the subsequence starting with `nums[j]` and `nums[i]`.\n",
        "\n",
        "4. **Count the Subsequences**:\n",
        "    - After processing all elements, iterate through the maps for all elements and sum up the counts for all differences. This gives the total number of arithmetic subsequences. Note that you should subtract the number of pairs (which don't count as subsequences since they don't have at least 3 elements).\n",
        "\n",
        "Here's a rough pseudo-code for the algorithm:\n",
        "\n",
        "```pseudo\n",
        "function numberOfArithmeticSlices(nums):\n",
        "    total_count = 0\n",
        "    maps = new Array(nums.length) // Array of maps\n",
        "\n",
        "    for i from 0 to nums.length-1:\n",
        "        maps[i] = new Map()\n",
        "        for j from 0 to i-1:\n",
        "            difference = nums[i] - nums[j]\n",
        "            count_at_j = maps[j].get(difference) or 0\n",
        "            count_at_i = maps[i].get(difference) or 0\n",
        "            \n",
        "            // Update the total count\n",
        "            total_count += count_at_j\n",
        "            \n",
        "            // Update the map for nums[i]\n",
        "            maps[i].set(difference, count_at_i + count_at_j + 1)\n",
        "        \n",
        "        // Subtract the number of pairs to ensure at least 3 elements\n",
        "        for each count in maps[i].values():\n",
        "            total_count -= count\n",
        "            \n",
        "    return total_count\n",
        "```\n",
        "\n",
        "Remember, this pseudo-code is for understanding the approach, and the actual implementation may differ based on the programming language used and how the map handles non-existent keys. The key idea is to use dynamic programming to keep track of the state as you iterate through the array, and use a map to efficiently count subsequences with different common differences."
      ],
      "metadata": {
        "id": "eJLu3D55PmSh"
      }
    },
    {
      "cell_type": "code",
      "source": [
        "from typing import List"
      ],
      "metadata": {
        "id": "j1O9BGamSFkm"
      },
      "execution_count": 2,
      "outputs": []
    },
    {
      "cell_type": "code",
      "execution_count": 9,
      "metadata": {
        "id": "HQxhf3gGPZhE"
      },
      "outputs": [],
      "source": [
        "def numberOfArithmeticSlices(nums: List[int]) -> int:\n",
        "    total_count = 0\n",
        "    # Array of maps, each element of nums will have a corresponding map\n",
        "    maps = [{} for _ in range(len(nums))]\n",
        "\n",
        "    for i in range(len(nums)):\n",
        "        for j in range(i):\n",
        "            # Compute the difference\n",
        "            diff = nums[i] - nums[j]\n",
        "            # The count of subsequences ending at j with a difference of 'diff'\n",
        "            count_at_j = maps[j].get(diff, 0)\n",
        "            # The count of subsequences ending at i with a difference of 'diff'\n",
        "            count_at_i = maps[i].get(diff, 0)\n",
        "            # Update the total count with the number of valid sequences extended by nums[i]\n",
        "            total_count += count_at_j\n",
        "            # Update the map for nums[i] with the new count\n",
        "            maps[i][diff] = count_at_i + count_at_j + 1\n",
        "\n",
        "    # Return the total count of arithmetic subsequences of length 3 or more\n",
        "    return total_count\n"
      ]
    },
    {
      "cell_type": "code",
      "source": [
        "# The result should be 7 for the first example and 16 for the second\n",
        "print(numberOfArithmeticSlices([2, 4, 6, 8, 10]))  # Example 1\n",
        "print(numberOfArithmeticSlices([7, 7, 7, 7, 7]))      # Example 2"
      ],
      "metadata": {
        "colab": {
          "base_uri": "https://localhost:8080/"
        },
        "id": "2whZY8UfRxO4",
        "outputId": "94f3597f-bde8-4a7d-84be-198c59485d74"
      },
      "execution_count": 11,
      "outputs": [
        {
          "output_type": "stream",
          "name": "stdout",
          "text": [
            "7\n",
            "16\n"
          ]
        }
      ]
    }
  ]
}